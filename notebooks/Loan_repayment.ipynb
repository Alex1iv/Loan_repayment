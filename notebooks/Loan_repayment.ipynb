{
 "cells": [
  {
   "attachments": {},
   "cell_type": "markdown",
   "metadata": {},
   "source": [
    "# Loan repayment"
   ]
  },
  {
   "cell_type": "code",
   "execution_count": 201,
   "metadata": {},
   "outputs": [],
   "source": [
    "import pandas as pd\n",
    "import numpy as np\n",
    "import matplotlib.pyplot as plt\n",
    "import seaborn as sns\n",
    "%matplotlib inline\n",
    "\n",
    "random_seed = 42\n",
    "\n",
    "import warnings\n",
    "warnings.filterwarnings('ignore')\n",
    "from scipy import stats\n",
    "import os, sys, json\n",
    "\n",
    "from sklearn.preprocessing import  StandardScaler , OneHotEncoder # LabelEncoder, RobustScaler, MinMaxScaler,\n",
    "\n",
    "# from sklearn.tree import DecisionTreeClassifier\n",
    "# from sklearn.linear_model import LogisticRegression, LinearRegression,  SGDRegressor, Ridge, RidgeCV\n",
    "# from sklearn.ensemble import GradientBoostingClassifier, RandomForestClassifier, GradientBoostingRegressor, StackingClassifier\n",
    " \n",
    "# from imblearn.over_sampling import SMOTE\n",
    "# from sklearn.model_selection import train_test_split #cross_val_score, RandomizedSearchCV, GridSearchCV, StratifiedKFold, LeaveOneOut, cross_validate\n",
    "\n",
    "# from sklearn.ensemble import RandomForestRegressor, StackingRegressor\n",
    "# from sklearn.metrics import classification_report, mean_squared_error, mean_absolute_error, mean_absolute_percentage_error, roc_curve, roc_auc_score, f1_score, median_absolute_error #auc,\n",
    "# #from sklearn import metrics\n",
    "\n",
    "# from sklearn.feature_selection import SelectKBest, f_regression\n",
    "\n",
    "from sklearn.pipeline import Pipeline\n",
    "from sklearn.ensemble import RandomForestRegressor\n",
    "\n",
    "from sklearn.model_selection import train_test_split\n",
    "from sklearn.compose import make_column_transformer\n",
    "from imblearn.over_sampling import SMOTE\n",
    "from sklearn.impute import KNNImputer\n",
    "\n",
    "import optuna\n",
    "import pickle\n",
    "\n",
    "\n",
    "# Hides output while after model learned\n",
    "from IPython.display import clear_output\n",
    "\n",
    "# Display fixed length of a dataframe\n",
    "pd.set_option(\"display.max_rows\", 9, \"display.max_columns\", 9)\n",
    "\n",
    "#set path\n",
    "sys.path.insert(1, '../')\n",
    "\n",
    "!pip freeze > requirements.txt"
   ]
  },
  {
   "cell_type": "code",
   "execution_count": 202,
   "metadata": {},
   "outputs": [],
   "source": [
    "from utils.config_reader import config_reader\n",
    "from utils.functions import get_descr\n",
    "\n",
    "# Import parameters\n",
    "config = config_reader('../config/config.json')\n",
    "\n",
    "random_seed = config.random_seed\n",
    "path_figures = config.path_figures\n",
    "\n",
    "os.environ['PYTHONHASHSEED'] = str(random_seed)\n",
    "np.random.seed(random_seed)\n",
    "from optuna.samplers import TPESampler\n",
    "sampler = TPESampler(seed=random_seed) # fix random seed"
   ]
  },
  {
   "attachments": {},
   "cell_type": "markdown",
   "metadata": {},
   "source": [
    "## Read files"
   ]
  },
  {
   "cell_type": "code",
   "execution_count": 203,
   "metadata": {},
   "outputs": [],
   "source": [
    "# df = pd.read_csv('../data/accepted_2007_to_2018Q4.csv.gz')\n",
    "# df\n",
    "\n",
    "# sample = df.sample(n=100000 , axis=0, random_state=random_seed)\n",
    "# display(sample)\n",
    "# sample.to_csv('../data/sample.csv') "
   ]
  },
  {
   "cell_type": "code",
   "execution_count": 204,
   "metadata": {},
   "outputs": [
    {
     "data": {
      "text/html": [
       "<div>\n",
       "<style scoped>\n",
       "    .dataframe tbody tr th:only-of-type {\n",
       "        vertical-align: middle;\n",
       "    }\n",
       "\n",
       "    .dataframe tbody tr th {\n",
       "        vertical-align: top;\n",
       "    }\n",
       "\n",
       "    .dataframe thead th {\n",
       "        text-align: right;\n",
       "    }\n",
       "</style>\n",
       "<table border=\"1\" class=\"dataframe\">\n",
       "  <thead>\n",
       "    <tr style=\"text-align: right;\">\n",
       "      <th></th>\n",
       "      <th>member_id</th>\n",
       "      <th>loan_amnt</th>\n",
       "      <th>funded_amnt</th>\n",
       "      <th>funded_amnt_inv</th>\n",
       "      <th>...</th>\n",
       "      <th>settlement_date</th>\n",
       "      <th>settlement_amount</th>\n",
       "      <th>settlement_percentage</th>\n",
       "      <th>settlement_term</th>\n",
       "    </tr>\n",
       "  </thead>\n",
       "  <tbody>\n",
       "    <tr>\n",
       "      <th>99995</th>\n",
       "      <td>NaN</td>\n",
       "      <td>22000.0</td>\n",
       "      <td>22000.0</td>\n",
       "      <td>22000.0</td>\n",
       "      <td>...</td>\n",
       "      <td>NaN</td>\n",
       "      <td>NaN</td>\n",
       "      <td>NaN</td>\n",
       "      <td>NaN</td>\n",
       "    </tr>\n",
       "    <tr>\n",
       "      <th>99996</th>\n",
       "      <td>NaN</td>\n",
       "      <td>25200.0</td>\n",
       "      <td>25200.0</td>\n",
       "      <td>25200.0</td>\n",
       "      <td>...</td>\n",
       "      <td>NaN</td>\n",
       "      <td>NaN</td>\n",
       "      <td>NaN</td>\n",
       "      <td>NaN</td>\n",
       "    </tr>\n",
       "    <tr>\n",
       "      <th>99997</th>\n",
       "      <td>NaN</td>\n",
       "      <td>10000.0</td>\n",
       "      <td>10000.0</td>\n",
       "      <td>10000.0</td>\n",
       "      <td>...</td>\n",
       "      <td>NaN</td>\n",
       "      <td>NaN</td>\n",
       "      <td>NaN</td>\n",
       "      <td>NaN</td>\n",
       "    </tr>\n",
       "    <tr>\n",
       "      <th>99998</th>\n",
       "      <td>NaN</td>\n",
       "      <td>20000.0</td>\n",
       "      <td>20000.0</td>\n",
       "      <td>20000.0</td>\n",
       "      <td>...</td>\n",
       "      <td>NaN</td>\n",
       "      <td>NaN</td>\n",
       "      <td>NaN</td>\n",
       "      <td>NaN</td>\n",
       "    </tr>\n",
       "    <tr>\n",
       "      <th>99999</th>\n",
       "      <td>NaN</td>\n",
       "      <td>12000.0</td>\n",
       "      <td>12000.0</td>\n",
       "      <td>12000.0</td>\n",
       "      <td>...</td>\n",
       "      <td>NaN</td>\n",
       "      <td>NaN</td>\n",
       "      <td>NaN</td>\n",
       "      <td>NaN</td>\n",
       "    </tr>\n",
       "  </tbody>\n",
       "</table>\n",
       "<p>5 rows × 150 columns</p>\n",
       "</div>"
      ],
      "text/plain": [
       "       member_id  loan_amnt  funded_amnt  funded_amnt_inv  ...  \\\n",
       "99995        NaN    22000.0      22000.0          22000.0  ...   \n",
       "99996        NaN    25200.0      25200.0          25200.0  ...   \n",
       "99997        NaN    10000.0      10000.0          10000.0  ...   \n",
       "99998        NaN    20000.0      20000.0          20000.0  ...   \n",
       "99999        NaN    12000.0      12000.0          12000.0  ...   \n",
       "\n",
       "      settlement_date  settlement_amount  settlement_percentage  \\\n",
       "99995             NaN                NaN                    NaN   \n",
       "99996             NaN                NaN                    NaN   \n",
       "99997             NaN                NaN                    NaN   \n",
       "99998             NaN                NaN                    NaN   \n",
       "99999             NaN                NaN                    NaN   \n",
       "\n",
       "      settlement_term  \n",
       "99995             NaN  \n",
       "99996             NaN  \n",
       "99997             NaN  \n",
       "99998             NaN  \n",
       "99999             NaN  \n",
       "\n",
       "[5 rows x 150 columns]"
      ]
     },
     "execution_count": 204,
     "metadata": {},
     "output_type": "execute_result"
    }
   ],
   "source": [
    "data = pd.read_csv('../data/sample.zip')\n",
    "data.drop(['Unnamed: 0', 'id'], axis=1, inplace=True)\n",
    "data.tail()"
   ]
  },
  {
   "attachments": {},
   "cell_type": "markdown",
   "metadata": {},
   "source": [
    "Read feature description."
   ]
  },
  {
   "attachments": {},
   "cell_type": "markdown",
   "metadata": {},
   "source": [
    "# 0. Dataset preparation"
   ]
  },
  {
   "attachments": {},
   "cell_type": "markdown",
   "metadata": {},
   "source": [
    "In order to do feature analysis it is better to start from object columns"
   ]
  },
  {
   "cell_type": "code",
   "execution_count": 205,
   "metadata": {},
   "outputs": [
    {
     "data": {
      "text/plain": [
       "['member_id',\n",
       " 'loan_amnt',\n",
       " 'funded_amnt',\n",
       " 'funded_amnt_inv',\n",
       " 'term',\n",
       " 'int_rate',\n",
       " 'installment',\n",
       " 'grade',\n",
       " 'sub_grade',\n",
       " 'emp_title',\n",
       " 'emp_length',\n",
       " 'home_ownership',\n",
       " 'annual_inc',\n",
       " 'verification_status',\n",
       " 'issue_d',\n",
       " 'loan_status',\n",
       " 'pymnt_plan',\n",
       " 'url',\n",
       " 'desc',\n",
       " 'purpose',\n",
       " 'title',\n",
       " 'zip_code',\n",
       " 'addr_state',\n",
       " 'dti',\n",
       " 'delinq_2yrs',\n",
       " 'earliest_cr_line',\n",
       " 'fico_range_low',\n",
       " 'fico_range_high',\n",
       " 'inq_last_6mths',\n",
       " 'mths_since_last_delinq',\n",
       " 'mths_since_last_record',\n",
       " 'open_acc',\n",
       " 'pub_rec',\n",
       " 'revol_bal',\n",
       " 'revol_util',\n",
       " 'total_acc',\n",
       " 'initial_list_status',\n",
       " 'out_prncp',\n",
       " 'out_prncp_inv',\n",
       " 'total_pymnt',\n",
       " 'total_pymnt_inv',\n",
       " 'total_rec_prncp',\n",
       " 'total_rec_int',\n",
       " 'total_rec_late_fee',\n",
       " 'recoveries',\n",
       " 'collection_recovery_fee',\n",
       " 'last_pymnt_d',\n",
       " 'last_pymnt_amnt',\n",
       " 'next_pymnt_d',\n",
       " 'last_credit_pull_d',\n",
       " 'last_fico_range_high',\n",
       " 'last_fico_range_low',\n",
       " 'collections_12_mths_ex_med',\n",
       " 'mths_since_last_major_derog',\n",
       " 'policy_code',\n",
       " 'application_type',\n",
       " 'annual_inc_joint',\n",
       " 'dti_joint',\n",
       " 'verification_status_joint',\n",
       " 'acc_now_delinq',\n",
       " 'tot_coll_amt',\n",
       " 'tot_cur_bal',\n",
       " 'open_acc_6m',\n",
       " 'open_act_il',\n",
       " 'open_il_12m',\n",
       " 'open_il_24m',\n",
       " 'mths_since_rcnt_il',\n",
       " 'total_bal_il',\n",
       " 'il_util',\n",
       " 'open_rv_12m',\n",
       " 'open_rv_24m',\n",
       " 'max_bal_bc',\n",
       " 'all_util',\n",
       " 'total_rev_hi_lim',\n",
       " 'inq_fi',\n",
       " 'total_cu_tl',\n",
       " 'inq_last_12m',\n",
       " 'acc_open_past_24mths',\n",
       " 'avg_cur_bal',\n",
       " 'bc_open_to_buy',\n",
       " 'bc_util',\n",
       " 'chargeoff_within_12_mths',\n",
       " 'delinq_amnt',\n",
       " 'mo_sin_old_il_acct',\n",
       " 'mo_sin_old_rev_tl_op',\n",
       " 'mo_sin_rcnt_rev_tl_op',\n",
       " 'mo_sin_rcnt_tl',\n",
       " 'mort_acc',\n",
       " 'mths_since_recent_bc',\n",
       " 'mths_since_recent_bc_dlq',\n",
       " 'mths_since_recent_inq',\n",
       " 'mths_since_recent_revol_delinq',\n",
       " 'num_accts_ever_120_pd',\n",
       " 'num_actv_bc_tl',\n",
       " 'num_actv_rev_tl',\n",
       " 'num_bc_sats',\n",
       " 'num_bc_tl',\n",
       " 'num_il_tl',\n",
       " 'num_op_rev_tl',\n",
       " 'num_rev_accts',\n",
       " 'num_rev_tl_bal_gt_0',\n",
       " 'num_sats',\n",
       " 'num_tl_120dpd_2m',\n",
       " 'num_tl_30dpd',\n",
       " 'num_tl_90g_dpd_24m',\n",
       " 'num_tl_op_past_12m',\n",
       " 'pct_tl_nvr_dlq',\n",
       " 'percent_bc_gt_75',\n",
       " 'pub_rec_bankruptcies',\n",
       " 'tax_liens',\n",
       " 'tot_hi_cred_lim',\n",
       " 'total_bal_ex_mort',\n",
       " 'total_bc_limit',\n",
       " 'total_il_high_credit_limit',\n",
       " 'revol_bal_joint',\n",
       " 'sec_app_fico_range_low',\n",
       " 'sec_app_fico_range_high',\n",
       " 'sec_app_earliest_cr_line',\n",
       " 'sec_app_inq_last_6mths',\n",
       " 'sec_app_mort_acc',\n",
       " 'sec_app_open_acc',\n",
       " 'sec_app_revol_util',\n",
       " 'sec_app_open_act_il',\n",
       " 'sec_app_num_rev_accts',\n",
       " 'sec_app_chargeoff_within_12_mths',\n",
       " 'sec_app_collections_12_mths_ex_med',\n",
       " 'sec_app_mths_since_last_major_derog',\n",
       " 'hardship_flag',\n",
       " 'hardship_type',\n",
       " 'hardship_reason',\n",
       " 'hardship_status',\n",
       " 'deferral_term',\n",
       " 'hardship_amount',\n",
       " 'hardship_start_date',\n",
       " 'hardship_end_date',\n",
       " 'payment_plan_start_date',\n",
       " 'hardship_length',\n",
       " 'hardship_dpd',\n",
       " 'hardship_loan_status',\n",
       " 'orig_projected_additional_accrued_interest',\n",
       " 'hardship_payoff_balance_amount',\n",
       " 'hardship_last_payment_amount',\n",
       " 'disbursement_method',\n",
       " 'debt_settlement_flag',\n",
       " 'debt_settlement_flag_date',\n",
       " 'settlement_status',\n",
       " 'settlement_date',\n",
       " 'settlement_amount',\n",
       " 'settlement_percentage',\n",
       " 'settlement_term']"
      ]
     },
     "execution_count": 205,
     "metadata": {},
     "output_type": "execute_result"
    }
   ],
   "source": [
    "data.columns.to_list()"
   ]
  },
  {
   "cell_type": "code",
   "execution_count": 206,
   "metadata": {},
   "outputs": [],
   "source": [
    "num_features, cat_features = [s for s in data.columns if data[s].dtypes != 'object'], [s for s in data.columns if data[s].dtypes == 'object']\n",
    "#cat_features"
   ]
  },
  {
   "attachments": {},
   "cell_type": "markdown",
   "metadata": {},
   "source": [
    "In order to do feature analysis we should select features which might affect the target."
   ]
  },
  {
   "cell_type": "code",
   "execution_count": 207,
   "metadata": {},
   "outputs": [
    {
     "data": {
      "text/html": [
       "<div>\n",
       "<style scoped>\n",
       "    .dataframe tbody tr th:only-of-type {\n",
       "        vertical-align: middle;\n",
       "    }\n",
       "\n",
       "    .dataframe tbody tr th {\n",
       "        vertical-align: top;\n",
       "    }\n",
       "\n",
       "    .dataframe thead th {\n",
       "        text-align: right;\n",
       "    }\n",
       "</style>\n",
       "<table border=\"1\" class=\"dataframe\">\n",
       "  <thead>\n",
       "    <tr style=\"text-align: right;\">\n",
       "      <th></th>\n",
       "      <th>loan_amnt</th>\n",
       "      <th>term</th>\n",
       "      <th>int_rate</th>\n",
       "      <th>installment</th>\n",
       "      <th>...</th>\n",
       "      <th>hardship_flag</th>\n",
       "      <th>hardship_length</th>\n",
       "      <th>total_bal_il</th>\n",
       "      <th>settlement_percentage</th>\n",
       "    </tr>\n",
       "  </thead>\n",
       "  <tbody>\n",
       "    <tr>\n",
       "      <th>0</th>\n",
       "      <td>32000.0</td>\n",
       "      <td>60 months</td>\n",
       "      <td>10.49</td>\n",
       "      <td>687.65</td>\n",
       "      <td>...</td>\n",
       "      <td>N</td>\n",
       "      <td>NaN</td>\n",
       "      <td>NaN</td>\n",
       "      <td>NaN</td>\n",
       "    </tr>\n",
       "    <tr>\n",
       "      <th>1</th>\n",
       "      <td>9600.0</td>\n",
       "      <td>36 months</td>\n",
       "      <td>12.99</td>\n",
       "      <td>323.42</td>\n",
       "      <td>...</td>\n",
       "      <td>N</td>\n",
       "      <td>NaN</td>\n",
       "      <td>NaN</td>\n",
       "      <td>NaN</td>\n",
       "    </tr>\n",
       "    <tr>\n",
       "      <th>2</th>\n",
       "      <td>4000.0</td>\n",
       "      <td>36 months</td>\n",
       "      <td>6.68</td>\n",
       "      <td>122.93</td>\n",
       "      <td>...</td>\n",
       "      <td>N</td>\n",
       "      <td>NaN</td>\n",
       "      <td>NaN</td>\n",
       "      <td>NaN</td>\n",
       "    </tr>\n",
       "    <tr>\n",
       "      <th>3</th>\n",
       "      <td>6025.0</td>\n",
       "      <td>36 months</td>\n",
       "      <td>10.91</td>\n",
       "      <td>197.00</td>\n",
       "      <td>...</td>\n",
       "      <td>N</td>\n",
       "      <td>NaN</td>\n",
       "      <td>2853.0</td>\n",
       "      <td>NaN</td>\n",
       "    </tr>\n",
       "    <tr>\n",
       "      <th>4</th>\n",
       "      <td>25000.0</td>\n",
       "      <td>60 months</td>\n",
       "      <td>26.30</td>\n",
       "      <td>752.96</td>\n",
       "      <td>...</td>\n",
       "      <td>N</td>\n",
       "      <td>NaN</td>\n",
       "      <td>48186.0</td>\n",
       "      <td>NaN</td>\n",
       "    </tr>\n",
       "  </tbody>\n",
       "</table>\n",
       "<p>5 rows × 32 columns</p>\n",
       "</div>"
      ],
      "text/plain": [
       "   loan_amnt        term  int_rate  installment  ... hardship_flag  \\\n",
       "0    32000.0   60 months     10.49       687.65  ...             N   \n",
       "1     9600.0   36 months     12.99       323.42  ...             N   \n",
       "2     4000.0   36 months      6.68       122.93  ...             N   \n",
       "3     6025.0   36 months     10.91       197.00  ...             N   \n",
       "4    25000.0   60 months     26.30       752.96  ...             N   \n",
       "\n",
       "  hardship_length total_bal_il settlement_percentage  \n",
       "0             NaN          NaN                   NaN  \n",
       "1             NaN          NaN                   NaN  \n",
       "2             NaN          NaN                   NaN  \n",
       "3             NaN       2853.0                   NaN  \n",
       "4             NaN      48186.0                   NaN  \n",
       "\n",
       "[5 rows x 32 columns]"
      ]
     },
     "execution_count": 207,
     "metadata": {},
     "output_type": "execute_result"
    }
   ],
   "source": [
    "selected_cols = [\n",
    "    'loan_amnt', 'term', 'int_rate', 'installment', 'grade', 'sub_grade', 'emp_title', 'emp_length', \\\n",
    "    'home_ownership', 'annual_inc', 'verification_status', 'issue_d', 'loan_status','pymnt_plan',\\\n",
    "    'purpose','title','zip_code','dti','earliest_cr_line','open_acc','pub_rec','revol_bal',\\\n",
    "    'revol_util','total_acc','initial_list_status','application_type','mort_acc','pub_rec_bankruptcies',\\\n",
    "    'hardship_flag','hardship_length','total_bal_il','settlement_percentage']\n",
    "\n",
    "data = data[selected_cols]\n",
    "data.head()"
   ]
  },
  {
   "attachments": {},
   "cell_type": "markdown",
   "metadata": {},
   "source": [
    "# 1. EDA"
   ]
  },
  {
   "attachments": {},
   "cell_type": "markdown",
   "metadata": {},
   "source": [
    "### Loan_status (target feature)"
   ]
  },
  {
   "attachments": {},
   "cell_type": "markdown",
   "metadata": {},
   "source": [
    "There are several loan repayment outcomes which can be used as targets."
   ]
  },
  {
   "cell_type": "code",
   "execution_count": 208,
   "metadata": {},
   "outputs": [
    {
     "data": {
      "image/png": "[encoded data removed]",
      "text/plain": [
       "<Figure size 800x400 with 1 Axes>"
      ]
     },
     "metadata": {},
     "output_type": "display_data"
    }
   ],
   "source": [
    "fig, ax = plt.subplots(figsize=(8, 4))\n",
    "fig = sns.histplot(data, y='loan_status')\n",
    "fig.set_title('Fig.1 - Loan repayment outcomes', y=-0.3, fontsize=13)\n",
    "ax.set_xscale('log')\n",
    "fig_id=1\n",
    "plt.tight_layout()\n",
    "ax.xaxis.grid(linestyle=':')\n",
    "plt.savefig(os.path.join(path_figures, f'fig_{fig_id}.png'));"
   ]
  },
  {
   "attachments": {},
   "cell_type": "markdown",
   "metadata": {},
   "source": [
    "To simplify the task let us exclude customers who either do not meet the credit policy or who are in the grace period."
   ]
  },
  {
   "cell_type": "code",
   "execution_count": 209,
   "metadata": {},
   "outputs": [
    {
     "data": {
      "text/plain": [
       "Fully Paid                                             0.474619\n",
       "Current                                                0.388886\n",
       "Charged Off                                            0.120345\n",
       "Late (31-120 days)                                     0.009690\n",
       "In Grace Period                                        0.003680\n",
       "Late (16-30 days)                                      0.001870\n",
       "Does not meet the credit policy. Status:Fully Paid     0.000600\n",
       "Does not meet the credit policy. Status:Charged Off    0.000310\n",
       "Name: loan_status, dtype: float64"
      ]
     },
     "execution_count": 209,
     "metadata": {},
     "output_type": "execute_result"
    }
   ],
   "source": [
    "data['loan_status'].value_counts(True)"
   ]
  },
  {
   "cell_type": "code",
   "execution_count": 210,
   "metadata": {},
   "outputs": [
    {
     "data": {
      "text/plain": [
       "Index(['loan_amnt', 'term', 'int_rate', 'installment', 'grade', 'sub_grade',\n",
       "       'emp_title', 'emp_length'],\n",
       "      dtype='object')"
      ]
     },
     "execution_count": 210,
     "metadata": {},
     "output_type": "execute_result"
    }
   ],
   "source": [
    "data = data.query(\"loan_status in ['Fully Paid', 'Charged Off', 'Late (31-120 days)', 'Late (16-30 days)']\") #'Current',\n",
    "data.iloc[:,:8].columns"
   ]
  },
  {
   "cell_type": "code",
   "execution_count": 211,
   "metadata": {},
   "outputs": [],
   "source": [
    "data = data[['loan_amnt', 'term', 'int_rate', 'installment', 'grade', 'sub_grade',\n",
    "       'emp_title', 'emp_length','loan_status']]"
   ]
  },
  {
   "attachments": {},
   "cell_type": "markdown",
   "metadata": {},
   "source": [
    "### grade and sub_grade"
   ]
  },
  {
   "cell_type": "code",
   "execution_count": 212,
   "metadata": {},
   "outputs": [
    {
     "name": "stdout",
     "output_type": "stream",
     "text": [
      "LC assigned loan grade\n"
     ]
    }
   ],
   "source": [
    "get_descr('grade')"
   ]
  },
  {
   "cell_type": "code",
   "execution_count": 213,
   "metadata": {},
   "outputs": [
    {
     "name": "stdout",
     "output_type": "stream",
     "text": [
      "LC assigned loan subgrade\n"
     ]
    }
   ],
   "source": [
    "get_descr('sub_grade')"
   ]
  },
  {
   "cell_type": "code",
   "execution_count": 214,
   "metadata": {},
   "outputs": [
    {
     "data": {
      "text/plain": [
       "B    0.288326\n",
       "C    0.286150\n",
       "A    0.169398\n",
       "D    0.153124\n",
       "E    0.071525\n",
       "F    0.024287\n",
       "G    0.007189\n",
       "Name: grade, dtype: float64"
      ]
     },
     "execution_count": 214,
     "metadata": {},
     "output_type": "execute_result"
    }
   ],
   "source": [
    "data['grade'].value_counts(True)"
   ]
  },
  {
   "cell_type": "code",
   "execution_count": 215,
   "metadata": {},
   "outputs": [
    {
     "data": {
      "text/html": [
       "<div>\n",
       "<style scoped>\n",
       "    .dataframe tbody tr th:only-of-type {\n",
       "        vertical-align: middle;\n",
       "    }\n",
       "\n",
       "    .dataframe tbody tr th {\n",
       "        vertical-align: top;\n",
       "    }\n",
       "\n",
       "    .dataframe thead th {\n",
       "        text-align: right;\n",
       "    }\n",
       "</style>\n",
       "<table border=\"1\" class=\"dataframe\">\n",
       "  <thead>\n",
       "    <tr style=\"text-align: right;\">\n",
       "      <th></th>\n",
       "      <th>grade</th>\n",
       "      <th>sub_grade</th>\n",
       "    </tr>\n",
       "  </thead>\n",
       "  <tbody>\n",
       "    <tr>\n",
       "      <th>1</th>\n",
       "      <td>C</td>\n",
       "      <td>C1</td>\n",
       "    </tr>\n",
       "    <tr>\n",
       "      <th>2</th>\n",
       "      <td>A</td>\n",
       "      <td>A3</td>\n",
       "    </tr>\n",
       "    <tr>\n",
       "      <th>3</th>\n",
       "      <td>B</td>\n",
       "      <td>B4</td>\n",
       "    </tr>\n",
       "    <tr>\n",
       "      <th>5</th>\n",
       "      <td>B</td>\n",
       "      <td>B2</td>\n",
       "    </tr>\n",
       "    <tr>\n",
       "      <th>...</th>\n",
       "      <td>...</td>\n",
       "      <td>...</td>\n",
       "    </tr>\n",
       "    <tr>\n",
       "      <th>99994</th>\n",
       "      <td>B</td>\n",
       "      <td>B3</td>\n",
       "    </tr>\n",
       "    <tr>\n",
       "      <th>99996</th>\n",
       "      <td>D</td>\n",
       "      <td>D3</td>\n",
       "    </tr>\n",
       "    <tr>\n",
       "      <th>99997</th>\n",
       "      <td>C</td>\n",
       "      <td>C2</td>\n",
       "    </tr>\n",
       "    <tr>\n",
       "      <th>99999</th>\n",
       "      <td>A</td>\n",
       "      <td>A2</td>\n",
       "    </tr>\n",
       "  </tbody>\n",
       "</table>\n",
       "<p>60650 rows × 2 columns</p>\n",
       "</div>"
      ],
      "text/plain": [
       "      grade sub_grade\n",
       "1         C        C1\n",
       "2         A        A3\n",
       "3         B        B4\n",
       "5         B        B2\n",
       "...     ...       ...\n",
       "99994     B        B3\n",
       "99996     D        D3\n",
       "99997     C        C2\n",
       "99999     A        A2\n",
       "\n",
       "[60650 rows x 2 columns]"
      ]
     },
     "execution_count": 215,
     "metadata": {},
     "output_type": "execute_result"
    }
   ],
   "source": [
    "data[['grade','sub_grade']]"
   ]
  },
  {
   "cell_type": "code",
   "execution_count": 216,
   "metadata": {},
   "outputs": [
    {
     "data": {
      "text/html": [
       "<div>\n",
       "<style scoped>\n",
       "    .dataframe tbody tr th:only-of-type {\n",
       "        vertical-align: middle;\n",
       "    }\n",
       "\n",
       "    .dataframe tbody tr th {\n",
       "        vertical-align: top;\n",
       "    }\n",
       "\n",
       "    .dataframe thead th {\n",
       "        text-align: right;\n",
       "    }\n",
       "</style>\n",
       "<table border=\"1\" class=\"dataframe\">\n",
       "  <thead>\n",
       "    <tr style=\"text-align: right;\">\n",
       "      <th></th>\n",
       "      <th>self</th>\n",
       "      <th>other</th>\n",
       "    </tr>\n",
       "  </thead>\n",
       "  <tbody>\n",
       "  </tbody>\n",
       "</table>\n",
       "</div>"
      ],
      "text/plain": [
       "Empty DataFrame\n",
       "Columns: [self, other]\n",
       "Index: []"
      ]
     },
     "execution_count": 216,
     "metadata": {},
     "output_type": "execute_result"
    }
   ],
   "source": [
    "data['grade'].compare(data['sub_grade'].astype(str).str[0])"
   ]
  },
  {
   "cell_type": "code",
   "execution_count": 217,
   "metadata": {},
   "outputs": [
    {
     "name": "stdout",
     "output_type": "stream",
     "text": [
      "Number of unique categories:  35\n"
     ]
    },
    {
     "data": {
      "image/png": "[encoded data removed]",
      "text/plain": [
       "<Figure size 1200x400 with 1 Axes>"
      ]
     },
     "metadata": {},
     "output_type": "display_data"
    }
   ],
   "source": [
    "new_order = list(np.sort(data['sub_grade'].unique()))\n",
    "print('Number of unique categories: ', len(new_order))\n",
    "temp = data[(data['loan_status']=='Fully Paid') | (data['loan_status']=='Charged Off')]\n",
    "fig_id=2\n",
    "\n",
    "fig, ax = plt.subplots(figsize=(12, 4))\n",
    "ax = sns.countplot(data=temp, x='sub_grade', hue='loan_status', width=0.7, order=new_order)\n",
    "ax.yaxis.grid(linestyle=':')\n",
    "ax.set_title(f'Assigned loan subgrade by status (Fully paid or Charged Off)', y=-0.3);\n",
    "#ax.set_yscale('log');\n",
    "plt.tight_layout()"
   ]
  },
  {
   "cell_type": "code",
   "execution_count": 218,
   "metadata": {},
   "outputs": [
    {
     "name": "stdout",
     "output_type": "stream",
     "text": [
      "Number of unique categories:  7\n"
     ]
    },
    {
     "data": {
      "image/png": "[encoded data removed]",
      "text/plain": [
       "<Figure size 1000x400 with 2 Axes>"
      ]
     },
     "metadata": {},
     "output_type": "display_data"
    }
   ],
   "source": [
    "new_order = list(np.sort(data['grade'].unique()))\n",
    "print('Number of unique categories: ', len(new_order))\n",
    "temp1 = data[(data['loan_status']=='Fully Paid') | (data['loan_status']=='Charged Off')]\n",
    "temp2 = data[(data['loan_status']=='Late (16-30 days)') | (data['loan_status']=='Late (31-120 days)')]\n",
    "fig_id=2\n",
    "\n",
    "fig, ax = plt.subplots(1,2, figsize=(10, 4))\n",
    "sns.countplot(data=temp1, x='grade', hue='loan_status', width=0.7, ax=ax[0], order=new_order) #, palette=['b','r']\n",
    "ax[0].yaxis.grid(linestyle=':')\n",
    "ax[0].set_title('Status: Fully paid or Charged Off', y=-0.3)\n",
    "\n",
    "ax[1] = sns.countplot(data=temp2, x='grade', hue='loan_status', width=0.7, order=new_order, palette=['g','y'])\n",
    "ax[1].yaxis.grid(linestyle=':')\n",
    "ax[1].set_title('Status: Late 16-30 / 31-120 days ', y=-0.3)\n",
    "\n",
    "plt.suptitle(f'Fig.{fig_id} - Assigned loan grade by status ', y=-0.0)\n",
    "#ax.set_yscale('log');\n",
    "plt.tight_layout()\n",
    "\n",
    "plt.savefig(os.path.join(path_figures, f'fig_{fig_id}.png'))"
   ]
  },
  {
   "attachments": {},
   "cell_type": "markdown",
   "metadata": {},
   "source": [
    "Feature 'sub_grade' categories loans more precise  in comparisson with 'grade' to some extent. On the other hand, it also represents the trend more consizely, and, therefore, histograms will be shorter. "
   ]
  },
  {
   "cell_type": "code",
   "execution_count": 219,
   "metadata": {},
   "outputs": [],
   "source": [
    "#data.drop('grade', axis=1, inplace=True)"
   ]
  },
  {
   "attachments": {},
   "cell_type": "markdown",
   "metadata": {},
   "source": [
    "Customers with higher loan grade repay loans more often in contrast to those with lower loan grades."
   ]
  },
  {
   "attachments": {},
   "cell_type": "markdown",
   "metadata": {},
   "source": [
    "### term"
   ]
  },
  {
   "cell_type": "code",
   "execution_count": 220,
   "metadata": {},
   "outputs": [
    {
     "data": {
      "text/plain": [
       " 36 months    0.754229\n",
       " 60 months    0.245771\n",
       "Name: term, dtype: float64"
      ]
     },
     "execution_count": 220,
     "metadata": {},
     "output_type": "execute_result"
    }
   ],
   "source": [
    "data['term'].value_counts(True)"
   ]
  },
  {
   "cell_type": "code",
   "execution_count": 221,
   "metadata": {},
   "outputs": [
    {
     "data": {
      "image/png": "[encoded data removed]",
      "text/plain": [
       "<Figure size 800x400 with 2 Axes>"
      ]
     },
     "metadata": {},
     "output_type": "display_data"
    }
   ],
   "source": [
    "fig_id=3\n",
    "\n",
    "fig, ax = plt.subplots(1,2, figsize=(8, 4))\n",
    "fig = sns.countplot(data=temp1, x='term', hue='loan_status', width=0.5, ax=ax[0]) #, palette=['b','r']\n",
    "ax[0].yaxis.grid(linestyle=':')\n",
    "#ax[0].set_title('Status: Fully paid or Charged Off', y=-0.3)\n",
    "\n",
    "fig = sns.countplot(data=temp2, x='term', hue='loan_status', width=0.5, ax=ax[1], palette=['g','y'])\n",
    "ax[1].yaxis.grid(linestyle=':')\n",
    "#ax[1].set_title('Status: Late 16-30 / 31-120 days ', y=-0.3)\n",
    "\n",
    "plt.suptitle(f'Fig.{fig_id} - Loan term by status ', y=-0.0)\n",
    "#ax.set_yscale('log');\n",
    "plt.tight_layout()\n",
    "\n",
    "plt.savefig(os.path.join(path_figures, f'fig_{fig_id}.png'))"
   ]
  },
  {
   "attachments": {},
   "cell_type": "markdown",
   "metadata": {},
   "source": [
    "Customers fully pay short-term loans more ofter, than long-term. "
   ]
  },
  {
   "attachments": {},
   "cell_type": "markdown",
   "metadata": {},
   "source": [
    "### emp_length"
   ]
  },
  {
   "cell_type": "code",
   "execution_count": 222,
   "metadata": {},
   "outputs": [
    {
     "name": "stdout",
     "output_type": "stream",
     "text": [
      "Employment length in years. Possible values are between 0 and 10 where 0 means less than one year and 10 means ten or more years. \n"
     ]
    }
   ],
   "source": [
    "get_descr('emp_length')"
   ]
  },
  {
   "cell_type": "code",
   "execution_count": 223,
   "metadata": {},
   "outputs": [],
   "source": [
    "data['emp_length'] = data['emp_length'].apply(lambda x: str(x).replace('+ years', '')\\\n",
    "    .replace(' years', '').replace('< 1 year', '0')).replace('1 year', '1').replace('nan','-1').astype('int')\n",
    "data['emp_length'].replace(-1, np.NaN, inplace=True)\n",
    "temp1 = data[(data['loan_status']=='Fully Paid') | (data['loan_status']=='Charged Off')]\n",
    "temp2 = data[(data['loan_status']=='Late (16-30 days)') | (data['loan_status']=='Late (31-120 days)')]"
   ]
  },
  {
   "cell_type": "code",
   "execution_count": 224,
   "metadata": {},
   "outputs": [],
   "source": [
    "# new_order = np.array(np.sort(temp1['emp_length'].unique()))\n",
    "# print('Number of unique categories: ', len(sub_grade))\n",
    "# np.trim_zeros(new_order,trim='fb')"
   ]
  },
  {
   "cell_type": "code",
   "execution_count": 225,
   "metadata": {},
   "outputs": [
    {
     "data": {
      "image/png": "[encoded data removed]",
      "text/plain": [
       "<Figure size 1200x400 with 2 Axes>"
      ]
     },
     "metadata": {},
     "output_type": "display_data"
    }
   ],
   "source": [
    "fig_id=4\n",
    "\n",
    "fig, ax = plt.subplots(1,2, figsize=(12, 4))\n",
    "fig = sns.countplot(data=temp1, x='emp_length', hue='loan_status', width=0.5, ax=ax[0]) #, palette=['b','r']\n",
    "ax[0].yaxis.grid(linestyle=':')\n",
    "#ax[0].set_title('Status: Fully paid or Charged Off', y=-0.3)\n",
    "\n",
    "fig = sns.countplot(data=temp2, x='emp_length', hue='loan_status', width=0.5, ax=ax[1], palette=['g','y'])\n",
    "ax[1].yaxis.grid(linestyle=':')\n",
    "#ax[1].set_title('Status: Late 16-30 / 31-120 days ', y=-0.3)\n",
    "\n",
    "plt.suptitle(f'Fig.{fig_id} - Employment duration by status ', y=-0.0)\n",
    "#ax.set_yscale('log');\n",
    "plt.tight_layout()\n",
    "\n",
    "plt.savefig(os.path.join(path_figures, f'fig_{fig_id}.png'))"
   ]
  },
  {
   "attachments": {},
   "cell_type": "markdown",
   "metadata": {},
   "source": [
    "### emp_title"
   ]
  },
  {
   "cell_type": "code",
   "execution_count": 226,
   "metadata": {},
   "outputs": [
    {
     "data": {
      "text/plain": [
       "28721"
      ]
     },
     "execution_count": 226,
     "metadata": {},
     "output_type": "execute_result"
    }
   ],
   "source": [
    "data['emp_title'].nunique()"
   ]
  },
  {
   "cell_type": "code",
   "execution_count": 227,
   "metadata": {},
   "outputs": [],
   "source": [
    "data['emp_title'] = data['emp_title'].apply(str).str.strip()"
   ]
  },
  {
   "cell_type": "code",
   "execution_count": 228,
   "metadata": {},
   "outputs": [],
   "source": [
    "#data['emp_title'] = data['emp_title'].astype('string')\n",
    "#data['emp_title'] = data['emp_title'].str.replace(',', '')\n",
    "#data['emp_title'] = pd.to_numeric(data['emp_title'], errors='coerce')"
   ]
  },
  {
   "cell_type": "code",
   "execution_count": 229,
   "metadata": {},
   "outputs": [],
   "source": [
    "#  lower case\n",
    "data['emp_title'] = data['emp_title'].apply(lambda x: x.lower().replace('/',' '))"
   ]
  },
  {
   "cell_type": "code",
   "execution_count": 230,
   "metadata": {},
   "outputs": [],
   "source": [
    "def get_professions(arg:str)->str:\n",
    "    \"\"\"Categorization of popular professions\n",
    "\n",
    "    Args:\n",
    "        arg (str): строка датафрейма\n",
    "\n",
    "    Returns:\n",
    "        _type_: _description_\n",
    "    \"\"\"    \n",
    "    \n",
    "    arg = arg.lower()\n",
    "    \n",
    "    management = ['foreman','shop foreman', 'team leader','chef','superintendent','maintenance supervisor','team lead','administration', 'deputy', 'forman', 'superviser','administrative', 'admin','group leader','manger', 'crew leader', 'mgr','payroll']\n",
    "    executives = ['general manager', 'vice president','director','account executive', 'sales executive','ceo', 'partner', 'president','senior vice president', 'vp','svp','cfo','cto', 'gm', 'coo','co-owner', 'vp of operations', 'vp operations', 'senior associate']\n",
    "    #engineers = ['engineer','software engineer']\n",
    "\n",
    "    employees = ['nurse', 'registered nurse', 'rn', 'lpn', 'cna', 'nursing','social worker', 'bartender', 'cook', 'machinist', 'bookkeeper','secretary','machine operator','electrician', 'operator', 'carpenter', 'pharmacist','clerk','cashier','laborer','receptionist','instructor','welder','dispatcher','bus operator', 'custodian', 'underwriter', 'realtor','conductor','mechanic','firefighter','maintenance','server','production','flight attendant', 'designer','security', 'lvn','buyer', 'agent','service tech','plumber','warehouse', 'stylist','hairstylist', 'teller', 'pastor','senior pastor','clerical','courier', 'logistics', 'shipping','transportation','porter', 'material handler','labor','painter','lineman','assembly', 'contractor','data entry','housekeeping','office','librarian','sous chef', 'nanny', 'installer','warehouse worker','assembler','table games dealer', 'adjuster', 'firefighter paramedic','millwright','baker','merchandiser','doorman','barista']\n",
    "    \n",
    "    skilled_laborers = ['engineer', 'officer','administrative assistant', 'administrator','paralegal', 'attorney', 'counselor','cse','supervisor', 'csr','pilot','ramp agent', 'captain','investigator','service advisor', 'human resources','at&t','recruiter', 'hr','housekeeper', \\\n",
    "        # law\n",
    "        'lawyer', 'legal secretary', 'auditor', \n",
    "        #IT\n",
    "        'it', 'programmer','software developer','it specialist','web developer','coder',\n",
    "        #finance\n",
    "        'banker', 'bank of america','accounts payable','medical biller','controller','accountant', 'accounting', 'personal banker','broker','business development','loan processor','financial advisor','payroll specialist','jp morgan chase','stocker','relationship banker','estimator','mortgage banker','finance','biller','accounts receivable','cpa','cma','billing','account representative', 'wells fargo',\n",
    "        # education\n",
    "        'professor','teacher', 'educator', 'faculty','dean','paraprofessional','lecturer',\n",
    "        #security\n",
    "        'security guard','lieutenant','united states air force','sergeant', 'inspector','staff sergeant', 'deputy sheriff','border patrol agent', 'detective','special agent','us army','major', 'department of defense','lockheed martin','us air force','us navy','detective','u.s. army',\n",
    "        # sales\n",
    "        'sales rep','sales', 'sales representative','dealer','purchasing','collector', 'purchasing agent', \\\n",
    "        # medics\n",
    "        'physician', 'dental hygienist','pharmacy tech', 'paramedic', 'caregiver','dentist','phlebotomist', 'optician','psychologist','speech language pathologist','resident physician', 'veterinarian','respiratory therapist', 'care giver','kaiser permanente',\\\n",
    "        # other\n",
    "        'advisor','trainer','claims adjuster', 'principal', 'associate','graphic designer','marketing', 'quality control','lead','chemist','specialist','scientist','operations',\n",
    "        ]\n",
    "    #sales = []\n",
    "    \n",
    "\n",
    "    if arg in executives or 'owner' in arg or 'president' in arg: \n",
    "        return 'executive' \n",
    "    \n",
    "    elif arg in management or 'manager' in arg or 'supervisor' in arg or 'executive' in arg or 'coordinator' in arg or 'lead' in arg or 'foreman' in arg or 'forman' in arg or 'head' in arg or 'supervisior' in arg or 'director' in arg or 'mgr' in arg or 'management' in arg or 'managing' in arg:   \n",
    "        return 'manager'\n",
    "    \n",
    "    elif arg in skilled_laborers or 'consultant' in arg or 'analyst' in arg or 'officer' in arg or 'engineer' in arg or 'accountant' in arg or 'administrator' in arg or 'counselor' in arg or 'insurance' in arg or 'police' in arg or 'it' in arg or 'professor' in arg or 'teacher' in arg or 'specialist' in arg or 'programmer' in arg or 'scientist' in arg or 'developer' in arg or 'coder' in arg or 'psychologist' in arg or 'therapist' in arg or 'agent' in arg or 'officer' in arg or 'attorney' in arg or 'paralegal' in arg or 'minister' in arg or 'research' in arg or 'buyer' in arg or 'billing' in arg or 'associate' in arg or 'planner' in arg or 'representative' in arg or 'professional' in arg:\n",
    "        return 'skilled_laborer'\n",
    "    \n",
    "    elif arg in employees or 'technician' in arg or 'operator' in arg or 'assistant' in arg or 'nurse' in arg or 'tech' in arg or 'sales' in arg  or 'service' in arg or 'controller' in arg or 'mail' in arg or 'ups' in arg or 'usps' in arg or 'post' in arg or 'staff' in arg or 'worker' in arg or 'clerk' in arg or 'mechanic' in arg or 'carrier' in arg or 'machinist' in arg or 'desk' in arg or 'manufacturing' in arg or 'driver' in arg:\n",
    "        return 'employee'\n",
    "   \n",
    "    else:\n",
    "        return 'other'"
   ]
  },
  {
   "cell_type": "code",
   "execution_count": 231,
   "metadata": {},
   "outputs": [
    {
     "data": {
      "text/plain": [
       "Index(['skilled_laborer', 'other', 'manager', 'employee', 'executive'], dtype='object')"
      ]
     },
     "execution_count": 231,
     "metadata": {},
     "output_type": "execute_result"
    }
   ],
   "source": [
    "data['emp_title'] = data['emp_title'].apply(get_professions)\n",
    "data['emp_title'].value_counts().nlargest(80).index"
   ]
  },
  {
   "cell_type": "code",
   "execution_count": 232,
   "metadata": {},
   "outputs": [
    {
     "data": {
      "text/plain": [
       "skilled_laborer    0.272317\n",
       "other              0.260528\n",
       "manager            0.233949\n",
       "employee           0.186793\n",
       "executive          0.046414\n",
       "Name: emp_title, dtype: float64"
      ]
     },
     "execution_count": 232,
     "metadata": {},
     "output_type": "execute_result"
    }
   ],
   "source": [
    "data['emp_title'].value_counts(True).nlargest(8)"
   ]
  },
  {
   "attachments": {},
   "cell_type": "markdown",
   "metadata": {},
   "source": [
    "# Preprocessing"
   ]
  },
  {
   "cell_type": "code",
   "execution_count": 233,
   "metadata": {},
   "outputs": [],
   "source": [
    "# Delete less informative feature 'grade'\n",
    "data.drop(['sub_grade'], axis=1, inplace=True)\n",
    "\n",
    "data_copy = data.query(\"loan_status in ['Fully Paid', 'Charged Off']\")"
   ]
  },
  {
   "cell_type": "code",
   "execution_count": 234,
   "metadata": {},
   "outputs": [],
   "source": [
    "X, y = data_copy.drop('loan_status', axis=1), data_copy['loan_status']"
   ]
  },
  {
   "cell_type": "code",
   "execution_count": 235,
   "metadata": {},
   "outputs": [
    {
     "data": {
      "text/plain": [
       "['loan_amnt', 'int_rate', 'installment', 'emp_length']"
      ]
     },
     "execution_count": 235,
     "metadata": {},
     "output_type": "execute_result"
    }
   ],
   "source": [
    "num_features = [s for s in X.columns if X[s].dtypes != 'object']\n",
    "сat_features = [s for s in X.columns if X[s].dtypes == 'object']\n",
    "num_features"
   ]
  },
  {
   "cell_type": "code",
   "execution_count": 236,
   "metadata": {},
   "outputs": [
    {
     "data": {
      "text/html": [
       "<div>\n",
       "<style scoped>\n",
       "    .dataframe tbody tr th:only-of-type {\n",
       "        vertical-align: middle;\n",
       "    }\n",
       "\n",
       "    .dataframe tbody tr th {\n",
       "        vertical-align: top;\n",
       "    }\n",
       "\n",
       "    .dataframe thead th {\n",
       "        text-align: right;\n",
       "    }\n",
       "</style>\n",
       "<table border=\"1\" class=\"dataframe\">\n",
       "  <thead>\n",
       "    <tr style=\"text-align: right;\">\n",
       "      <th></th>\n",
       "      <th>loan_amnt</th>\n",
       "      <th>term</th>\n",
       "      <th>int_rate</th>\n",
       "      <th>installment</th>\n",
       "      <th>grade</th>\n",
       "      <th>emp_title</th>\n",
       "      <th>emp_length</th>\n",
       "    </tr>\n",
       "  </thead>\n",
       "  <tbody>\n",
       "    <tr>\n",
       "      <th>1</th>\n",
       "      <td>-0.549266</td>\n",
       "      <td>36 months</td>\n",
       "      <td>-0.065033</td>\n",
       "      <td>-0.435158</td>\n",
       "      <td>C</td>\n",
       "      <td>other</td>\n",
       "      <td>NaN</td>\n",
       "    </tr>\n",
       "    <tr>\n",
       "      <th>2</th>\n",
       "      <td>-1.190278</td>\n",
       "      <td>36 months</td>\n",
       "      <td>-1.381770</td>\n",
       "      <td>-1.198917</td>\n",
       "      <td>A</td>\n",
       "      <td>skilled_laborer</td>\n",
       "      <td>-0.530196</td>\n",
       "    </tr>\n",
       "    <tr>\n",
       "      <th>3</th>\n",
       "      <td>-0.958484</td>\n",
       "      <td>36 months</td>\n",
       "      <td>-0.499076</td>\n",
       "      <td>-0.916750</td>\n",
       "      <td>B</td>\n",
       "      <td>employee</td>\n",
       "      <td>1.094081</td>\n",
       "    </tr>\n",
       "    <tr>\n",
       "      <th>5</th>\n",
       "      <td>0.641186</td>\n",
       "      <td>36 months</td>\n",
       "      <td>-0.795394</td>\n",
       "      <td>0.773013</td>\n",
       "      <td>B</td>\n",
       "      <td>manager</td>\n",
       "      <td>1.094081</td>\n",
       "    </tr>\n",
       "    <tr>\n",
       "      <th>...</th>\n",
       "      <td>...</td>\n",
       "      <td>...</td>\n",
       "      <td>...</td>\n",
       "      <td>...</td>\n",
       "      <td>...</td>\n",
       "      <td>...</td>\n",
       "      <td>...</td>\n",
       "    </tr>\n",
       "    <tr>\n",
       "      <th>99994</th>\n",
       "      <td>-1.510784</td>\n",
       "      <td>36 months</td>\n",
       "      <td>-0.739052</td>\n",
       "      <td>-1.520207</td>\n",
       "      <td>B</td>\n",
       "      <td>manager</td>\n",
       "      <td>1.094081</td>\n",
       "    </tr>\n",
       "    <tr>\n",
       "      <th>99996</th>\n",
       "      <td>1.236411</td>\n",
       "      <td>36 months</td>\n",
       "      <td>0.769666</td>\n",
       "      <td>1.754940</td>\n",
       "      <td>D</td>\n",
       "      <td>executive</td>\n",
       "      <td>1.094081</td>\n",
       "    </tr>\n",
       "    <tr>\n",
       "      <th>99997</th>\n",
       "      <td>-0.503479</td>\n",
       "      <td>36 months</td>\n",
       "      <td>0.419092</td>\n",
       "      <td>-0.340835</td>\n",
       "      <td>C</td>\n",
       "      <td>other</td>\n",
       "      <td>-0.800908</td>\n",
       "    </tr>\n",
       "    <tr>\n",
       "      <th>99999</th>\n",
       "      <td>-0.274546</td>\n",
       "      <td>36 months</td>\n",
       "      <td>-1.442286</td>\n",
       "      <td>-0.268418</td>\n",
       "      <td>A</td>\n",
       "      <td>skilled_laborer</td>\n",
       "      <td>-0.530196</td>\n",
       "    </tr>\n",
       "  </tbody>\n",
       "</table>\n",
       "<p>59494 rows × 7 columns</p>\n",
       "</div>"
      ],
      "text/plain": [
       "       loan_amnt        term  int_rate  installment grade        emp_title  \\\n",
       "1      -0.549266   36 months -0.065033    -0.435158     C            other   \n",
       "2      -1.190278   36 months -1.381770    -1.198917     A  skilled_laborer   \n",
       "3      -0.958484   36 months -0.499076    -0.916750     B         employee   \n",
       "5       0.641186   36 months -0.795394     0.773013     B          manager   \n",
       "...          ...         ...       ...          ...   ...              ...   \n",
       "99994  -1.510784   36 months -0.739052    -1.520207     B          manager   \n",
       "99996   1.236411   36 months  0.769666     1.754940     D        executive   \n",
       "99997  -0.503479   36 months  0.419092    -0.340835     C            other   \n",
       "99999  -0.274546   36 months -1.442286    -0.268418     A  skilled_laborer   \n",
       "\n",
       "       emp_length  \n",
       "1             NaN  \n",
       "2       -0.530196  \n",
       "3        1.094081  \n",
       "5        1.094081  \n",
       "...           ...  \n",
       "99994    1.094081  \n",
       "99996    1.094081  \n",
       "99997   -0.800908  \n",
       "99999   -0.530196  \n",
       "\n",
       "[59494 rows x 7 columns]"
      ]
     },
     "execution_count": 236,
     "metadata": {},
     "output_type": "execute_result"
    }
   ],
   "source": [
    "scaler = StandardScaler() #RobustScaler()  #MinMaxScaler() #\n",
    "X[num_features] = scaler.fit_transform(X[num_features].values)\n",
    "X"
   ]
  },
  {
   "cell_type": "code",
   "execution_count": 237,
   "metadata": {},
   "outputs": [
    {
     "data": {
      "text/html": [
       "<div>\n",
       "<style scoped>\n",
       "    .dataframe tbody tr th:only-of-type {\n",
       "        vertical-align: middle;\n",
       "    }\n",
       "\n",
       "    .dataframe tbody tr th {\n",
       "        vertical-align: top;\n",
       "    }\n",
       "\n",
       "    .dataframe thead th {\n",
       "        text-align: right;\n",
       "    }\n",
       "</style>\n",
       "<table border=\"1\" class=\"dataframe\">\n",
       "  <thead>\n",
       "    <tr style=\"text-align: right;\">\n",
       "      <th></th>\n",
       "      <th>loan_amnt</th>\n",
       "      <th>int_rate</th>\n",
       "      <th>installment</th>\n",
       "      <th>emp_length</th>\n",
       "      <th>...</th>\n",
       "      <th>emp_title_executive</th>\n",
       "      <th>emp_title_manager</th>\n",
       "      <th>emp_title_other</th>\n",
       "      <th>emp_title_skilled_laborer</th>\n",
       "    </tr>\n",
       "  </thead>\n",
       "  <tbody>\n",
       "    <tr>\n",
       "      <th>1</th>\n",
       "      <td>-0.549266</td>\n",
       "      <td>-0.065033</td>\n",
       "      <td>-0.435158</td>\n",
       "      <td>NaN</td>\n",
       "      <td>...</td>\n",
       "      <td>0</td>\n",
       "      <td>0</td>\n",
       "      <td>1</td>\n",
       "      <td>0</td>\n",
       "    </tr>\n",
       "    <tr>\n",
       "      <th>2</th>\n",
       "      <td>-1.190278</td>\n",
       "      <td>-1.381770</td>\n",
       "      <td>-1.198917</td>\n",
       "      <td>-0.530196</td>\n",
       "      <td>...</td>\n",
       "      <td>0</td>\n",
       "      <td>0</td>\n",
       "      <td>0</td>\n",
       "      <td>1</td>\n",
       "    </tr>\n",
       "    <tr>\n",
       "      <th>3</th>\n",
       "      <td>-0.958484</td>\n",
       "      <td>-0.499076</td>\n",
       "      <td>-0.916750</td>\n",
       "      <td>1.094081</td>\n",
       "      <td>...</td>\n",
       "      <td>0</td>\n",
       "      <td>0</td>\n",
       "      <td>0</td>\n",
       "      <td>0</td>\n",
       "    </tr>\n",
       "    <tr>\n",
       "      <th>5</th>\n",
       "      <td>0.641186</td>\n",
       "      <td>-0.795394</td>\n",
       "      <td>0.773013</td>\n",
       "      <td>1.094081</td>\n",
       "      <td>...</td>\n",
       "      <td>0</td>\n",
       "      <td>1</td>\n",
       "      <td>0</td>\n",
       "      <td>0</td>\n",
       "    </tr>\n",
       "    <tr>\n",
       "      <th>6</th>\n",
       "      <td>-1.533678</td>\n",
       "      <td>-1.068758</td>\n",
       "      <td>-1.547521</td>\n",
       "      <td>NaN</td>\n",
       "      <td>...</td>\n",
       "      <td>0</td>\n",
       "      <td>0</td>\n",
       "      <td>1</td>\n",
       "      <td>0</td>\n",
       "    </tr>\n",
       "  </tbody>\n",
       "</table>\n",
       "<p>5 rows × 18 columns</p>\n",
       "</div>"
      ],
      "text/plain": [
       "   loan_amnt  int_rate  installment  emp_length  ...  emp_title_executive  \\\n",
       "1  -0.549266 -0.065033    -0.435158         NaN  ...                    0   \n",
       "2  -1.190278 -1.381770    -1.198917   -0.530196  ...                    0   \n",
       "3  -0.958484 -0.499076    -0.916750    1.094081  ...                    0   \n",
       "5   0.641186 -0.795394     0.773013    1.094081  ...                    0   \n",
       "6  -1.533678 -1.068758    -1.547521         NaN  ...                    0   \n",
       "\n",
       "   emp_title_manager  emp_title_other  emp_title_skilled_laborer  \n",
       "1                  0                1                          0  \n",
       "2                  0                0                          1  \n",
       "3                  0                0                          0  \n",
       "5                  1                0                          0  \n",
       "6                  0                1                          0  \n",
       "\n",
       "[5 rows x 18 columns]"
      ]
     },
     "execution_count": 237,
     "metadata": {},
     "output_type": "execute_result"
    }
   ],
   "source": [
    "# Feature encoding\n",
    "X = pd.get_dummies(X)\n",
    "X.head()"
   ]
  },
  {
   "cell_type": "code",
   "execution_count": 238,
   "metadata": {},
   "outputs": [
    {
     "data": {
      "text/plain": [
       "False    56024\n",
       "True      3470\n",
       "Name: emp_length, dtype: int64"
      ]
     },
     "execution_count": 238,
     "metadata": {},
     "output_type": "execute_result"
    }
   ],
   "source": [
    "X['emp_length'].isna().value_counts()"
   ]
  },
  {
   "attachments": {},
   "cell_type": "markdown",
   "metadata": {},
   "source": [
    "## Missing values"
   ]
  },
  {
   "cell_type": "code",
   "execution_count": 248,
   "metadata": {},
   "outputs": [
    {
     "data": {
      "text/plain": [
       "emp_length    5.897774\n",
       "dtype: float64"
      ]
     },
     "metadata": {},
     "output_type": "display_data"
    }
   ],
   "source": [
    "cols_null_percent = data.isna().mean()*100\n",
    "cols_null = cols_null_percent[cols_null_percent > 0].sort_values(ascending=False)\n",
    "display(cols_null)"
   ]
  },
  {
   "cell_type": "code",
   "execution_count": 239,
   "metadata": {},
   "outputs": [
    {
     "data": {
      "text/plain": [
       "False    59494\n",
       "Name: emp_length, dtype: int64"
      ]
     },
     "execution_count": 239,
     "metadata": {},
     "output_type": "execute_result"
    }
   ],
   "source": [
    "imputer =  KNNImputer(n_neighbors=5, weights=\"uniform\", metric='nan_euclidean')\n",
    "X = pd.DataFrame(imputer.fit_transform(X), columns=X.columns)\n",
    "X['emp_length'].isna().value_counts()"
   ]
  },
  {
   "attachments": {},
   "cell_type": "markdown",
   "metadata": {},
   "source": [
    "### Target feature"
   ]
  },
  {
   "cell_type": "code",
   "execution_count": 241,
   "metadata": {},
   "outputs": [
    {
     "data": {
      "image/png": "[encoded data removed]",
      "text/plain": [
       "<Figure size 300x300 with 1 Axes>"
      ]
     },
     "metadata": {},
     "output_type": "display_data"
    }
   ],
   "source": [
    "fig_id = 13\n",
    "\n",
    "fig, ax = plt.subplots(figsize=(3, 3)) \n",
    "sns.countplot(data=data_copy, x='loan_status', width=0.5)\n",
    "ax.set_title(f'Fig.{fig_id} - Loan_status classes balance', y=-0.5)\n",
    "plt.tight_layout();\n",
    "\n",
    "#plt.savefig(os.path.join(path_figures + f'fig_{fig_id}.png'))\n",
    "\n",
    "#print(targets['Sales_CLoans'].value_counts(True).round(2))"
   ]
  },
  {
   "cell_type": "code",
   "execution_count": 242,
   "metadata": {},
   "outputs": [
    {
     "name": "stdout",
     "output_type": "stream",
     "text": [
      "[0 1] [12034 47460]\n"
     ]
    }
   ],
   "source": [
    "y = y.apply(lambda x: 1 if x=='Fully Paid' else 0)\n",
    "\n",
    "unique, counts = np.unique(y, return_counts=True)\n",
    "print(unique, counts)"
   ]
  },
  {
   "attachments": {},
   "cell_type": "markdown",
   "metadata": {},
   "source": [
    "### balancing classes"
   ]
  },
  {
   "cell_type": "code",
   "execution_count": 243,
   "metadata": {},
   "outputs": [
    {
     "name": "stdout",
     "output_type": "stream",
     "text": [
      "After synthetic resampling :  [0 1] [47460 47460]\n"
     ]
    }
   ],
   "source": [
    "# Synthetic resampling of minority class\n",
    "sm = SMOTE(random_state=random_seed)\n",
    "X, y = sm.fit_resample(X, y)\n",
    "\n",
    "unique, counts = np.unique(y, return_counts=True)\n",
    "print('After synthetic resampling : ',unique, counts)"
   ]
  },
  {
   "attachments": {},
   "cell_type": "markdown",
   "metadata": {},
   "source": [
    "## Encoding"
   ]
  },
  {
   "cell_type": "code",
   "execution_count": 244,
   "metadata": {},
   "outputs": [
    {
     "name": "stdout",
     "output_type": "stream",
     "text": [
      "Train shape: (75936, 18)\n",
      "Test shape:  (9492, 18)\n",
      "Valid shape: (9492, 18)\n"
     ]
    }
   ],
   "source": [
    "# Split data by 3 samples: train, test and valid\n",
    "X_train, X_valid, y_train, y_valid = train_test_split(X, y, test_size=0.2,  random_state=random_seed)\n",
    "X_test, X_valid, y_test, y_valid  = train_test_split(X_valid, y_valid, test_size=0.5, random_state=random_seed)\n",
    "\n",
    "# Check samples shapes\n",
    "print('Train shape: {}'.format(X_train.shape))\n",
    "print('Test shape:  {}'.format(X_test.shape))\n",
    "print('Valid shape: {}'.format(X_valid.shape))"
   ]
  },
  {
   "cell_type": "code",
   "execution_count": 245,
   "metadata": {},
   "outputs": [],
   "source": [
    "from sklearn.linear_model import LogisticRegression\n",
    "from sklearn.ensemble import GradientBoostingClassifier\n",
    "from sklearn.metrics import classification_report, roc_curve, roc_auc_score"
   ]
  },
  {
   "cell_type": "code",
   "execution_count": 246,
   "metadata": {},
   "outputs": [],
   "source": [
    "def get_ROC_plot(model,  X_test, y_test, title:str, fig_id:int=None):\n",
    "    \"\"\"\n",
    "    Create the roc curve plot\n",
    "    Args:\n",
    "        model (_type_): pre-trained model to get prediction\n",
    "        X_valid (_type_): X matrice with \n",
    "        y_valid (_type_): y predicted values\n",
    "        title (_type_): _description_\n",
    "        figpath (_int_): figure path for saving\n",
    "    \"\"\"\n",
    "    y_pred = model.predict_proba(X_valid)[:,1]\n",
    "    print('roc_auc: ', roc_auc_score(y_valid, y_pred).round(3))\n",
    "\n",
    "    false_positive_rates, true_positive_rates, threshold = roc_curve(y_valid, y_pred)\n",
    "\n",
    "\n",
    "    # Plot\n",
    "    fig, ax = plt.subplots(figsize=(5, 5))\n",
    "\n",
    "    # ROC curve\n",
    "    ax.plot(false_positive_rates, true_positive_rates, \n",
    "            label='Smoothed values ROC-AUC')\n",
    "\n",
    "    # Random model\n",
    "    ax.plot([0, 1], [0, 1], color='k', lw=2, linestyle=':', \n",
    "            label='Model predicting random')\n",
    "\n",
    "    ax.set_title(f'Fig.{fig_id} - ROC curve for {title}', y=-0.2)\n",
    "    ax.set_xlabel('False Positive Rate')\n",
    "    ax.set_ylabel('True Positive Rate')\n",
    "\n",
    "    ax.fill_between(false_positive_rates, \n",
    "                    true_positive_rates, \n",
    "                    step=\"pre\", \n",
    "                    alpha=0.4, label='Area under curve (ROC-AUC)')\n",
    "    \n",
    "    # Annotate figure with ROC cureve\n",
    "    plt.annotate(f'ROC: {roc_auc_score(y_valid, y_pred).round(3)}', xy=(0.45,0.6), textcoords='data', \n",
    "             bbox={'facecolor': 'w', 'alpha': 0.95, 'pad': 10} \n",
    "    );\n",
    "    \n",
    "    ax.legend()\n",
    "    plt.tight_layout();\n",
    "    \n",
    "    if fig_id:\n",
    "        plt.savefig(os.path.join(path_figures + f'fig_{fig_id}.png'))"
   ]
  },
  {
   "cell_type": "code",
   "execution_count": 247,
   "metadata": {},
   "outputs": [
    {
     "name": "stdout",
     "output_type": "stream",
     "text": [
      "              precision    recall  f1-score   support\n",
      "\n",
      "           0       0.65      0.66      0.66      4728\n",
      "           1       0.66      0.65      0.66      4764\n",
      "\n",
      "    accuracy                           0.66      9492\n",
      "   macro avg       0.66      0.66      0.66      9492\n",
      "weighted avg       0.66      0.66      0.66      9492\n",
      "\n",
      "roc_auc:  0.707\n"
     ]
    },
    {
     "data": {
      "image/png": "[encoded data removed]",
      "text/plain": [
       "<Figure size 500x500 with 1 Axes>"
      ]
     },
     "metadata": {},
     "output_type": "display_data"
    }
   ],
   "source": [
    "gb = GradientBoostingClassifier(\n",
    "    learning_rate=0.01,\n",
    "    n_estimators=95,\n",
    "    min_samples_leaf=3,\n",
    "    max_depth=3,\n",
    "    random_state=random_seed\n",
    ")\n",
    "\n",
    "# train model\n",
    "gb.fit(X_train, y_train)\n",
    " \n",
    "# Predict target values\n",
    "y_pred = gb.predict(X_test)\n",
    "\n",
    "# Metrics report\n",
    "print(classification_report(y_test, y_pred))\n",
    "\n",
    "\n",
    "get_ROC_plot(gb, X_test, y_test, 'Gradient Boosting CL')"
   ]
  },
  {
   "cell_type": "code",
   "execution_count": 39,
   "metadata": {},
   "outputs": [],
   "source": [
    "transformer = make_column_transformer(\n",
    "    (StandardScaler(), num_features),\n",
    "    (OneHotEncoder(sparse=False), сat_features), remainder = 'passthrough') #OneHotEncoder(sparse=False)\n",
    "#transformer\n",
    "\n",
    "pipeline = Pipeline([\n",
    "    ('ct', transformer), \n",
    "    ('imputer', KNNImputer(n_neighbors=5, weights=\"uniform\", metric='nan_euclidean')),\n",
    "    # ('log_reg', LogisticRegression(\n",
    "    #     multi_class='multinomial',  \n",
    "    #     max_iter=5000,  \n",
    "    #     random_state=random_seed))\n",
    "    ('gb', GradientBoostingClassifier(\n",
    "        learning_rate=0.01,\n",
    "        n_estimators=95,\n",
    "        min_samples_leaf=3,\n",
    "        max_depth=3,\n",
    "        random_state=random_seed))\n",
    "])"
   ]
  },
  {
   "cell_type": "code",
   "execution_count": 379,
   "metadata": {},
   "outputs": [
    {
     "data": {
      "text/plain": [
       "['term_ 36 months',\n",
       " 'term_ 60 months',\n",
       " 'grade_A',\n",
       " 'grade_B',\n",
       " 'grade_C',\n",
       " 'grade_D',\n",
       " 'grade_E',\n",
       " 'grade_F',\n",
       " 'grade_G',\n",
       " 'emp_title_employee',\n",
       " 'emp_title_executive',\n",
       " 'emp_title_manager',\n",
       " 'emp_title_other',\n",
       " 'emp_title_skilled_laborer']"
      ]
     },
     "execution_count": 379,
     "metadata": {},
     "output_type": "execute_result"
    }
   ],
   "source": [
    "pipeline['ct'].transformers_[1][1].get_feature_names_out().tolist()"
   ]
  },
  {
   "cell_type": "code",
   "execution_count": 234,
   "metadata": {},
   "outputs": [],
   "source": [
    "transformer = transformer.fit(X)\n",
    "results = transformer.transform(X)"
   ]
  },
  {
   "attachments": {},
   "cell_type": "markdown",
   "metadata": {},
   "source": [
    "## Other features"
   ]
  },
  {
   "attachments": {},
   "cell_type": "markdown",
   "metadata": {},
   "source": [
    "### settlement_percentage"
   ]
  },
  {
   "cell_type": "code",
   "execution_count": 170,
   "metadata": {},
   "outputs": [
    {
     "name": "stdout",
     "output_type": "stream",
     "text": [
      "The number of months the borrower will make smaller payments than normally obligated due to a hardship plan\n"
     ]
    }
   ],
   "source": [
    "get_descr('hardship_length')"
   ]
  },
  {
   "cell_type": "code",
   "execution_count": 171,
   "metadata": {},
   "outputs": [
    {
     "data": {
      "text/plain": [
       "3.0    299\n",
       "Name: hardship_length, dtype: int64"
      ]
     },
     "execution_count": 171,
     "metadata": {},
     "output_type": "execute_result"
    }
   ],
   "source": [
    "#data['hardship_length'].value_counts()"
   ]
  },
  {
   "attachments": {},
   "cell_type": "markdown",
   "metadata": {},
   "source": [
    "### Member_id\n",
    "\n",
    "We will not use this feature for prediction."
   ]
  },
  {
   "cell_type": "code",
   "execution_count": 172,
   "metadata": {},
   "outputs": [],
   "source": [
    "#data.drop(['member_id'], axis=1, inplace=True)"
   ]
  },
  {
   "attachments": {},
   "cell_type": "markdown",
   "metadata": {},
   "source": [
    "### hardship_length"
   ]
  },
  {
   "cell_type": "code",
   "execution_count": 173,
   "metadata": {},
   "outputs": [
    {
     "name": "stdout",
     "output_type": "stream",
     "text": [
      "The number of months the borrower will make smaller payments than normally obligated due to a hardship plan\n"
     ]
    }
   ],
   "source": [
    "get_descr(feature='hardship_length')"
   ]
  },
  {
   "cell_type": "code",
   "execution_count": 174,
   "metadata": {},
   "outputs": [
    {
     "data": {
      "text/plain": [
       "3.0    299\n",
       "Name: hardship_length, dtype: int64"
      ]
     },
     "execution_count": 174,
     "metadata": {},
     "output_type": "execute_result"
    }
   ],
   "source": [
    "#data['hardship_length'].value_counts()"
   ]
  },
  {
   "cell_type": "code",
   "execution_count": 175,
   "metadata": {},
   "outputs": [],
   "source": [
    "# Encoding data \n",
    "data['hardship_length'] = data['hardship_length'].apply(lambda x: 1 if x==3.0 else 0) "
   ]
  },
  {
   "attachments": {},
   "cell_type": "markdown",
   "metadata": {},
   "source": [
    "### settlement_percentage"
   ]
  },
  {
   "cell_type": "code",
   "execution_count": 176,
   "metadata": {},
   "outputs": [
    {
     "name": "stdout",
     "output_type": "stream",
     "text": [
      "The settlement amount as a percentage of the payoff balance amount on the loan\n"
     ]
    }
   ],
   "source": [
    "get_descr('settlement_percentage')"
   ]
  },
  {
   "cell_type": "code",
   "execution_count": 177,
   "metadata": {},
   "outputs": [
    {
     "data": {
      "text/plain": [
       "array([  nan, 59.98, 50.  , 60.01, 60.  , 55.  , 50.03, 45.  , 49.99,\n",
       "       44.99, 50.01, 45.01, 65.  , 55.01, 44.97])"
      ]
     },
     "execution_count": 177,
     "metadata": {},
     "output_type": "execute_result"
    }
   ],
   "source": [
    "data['settlement_percentage'].unique()"
   ]
  },
  {
   "cell_type": "code",
   "execution_count": 178,
   "metadata": {},
   "outputs": [],
   "source": [
    "data['settlement_percentage'].fillna(-1, inplace=True)"
   ]
  },
  {
   "cell_type": "code",
   "execution_count": 179,
   "metadata": {},
   "outputs": [
    {
     "data": {
      "text/plain": [
       "unknown    87461\n",
       "<45           14\n",
       "45-50         13\n",
       "50-55          7\n",
       "55-60          4\n",
       "60+            4\n",
       "Name: settlement_percentage_group, dtype: int64"
      ]
     },
     "execution_count": 179,
     "metadata": {},
     "output_type": "execute_result"
    }
   ],
   "source": [
    "data['settlement_percentage_group'] = pd.cut(data['settlement_percentage'], [-2,1,45,50,55,60,100], labels = ['unknown','<45','45-50','50-55','55-60','60+'])\n",
    "data['settlement_percentage_group'].value_counts()"
   ]
  },
  {
   "cell_type": "code",
   "execution_count": 180,
   "metadata": {},
   "outputs": [],
   "source": [
    "data.drop(['settlement_percentage'],axis=1, inplace=True)"
   ]
  },
  {
   "attachments": {},
   "cell_type": "markdown",
   "metadata": {},
   "source": [
    "### total_bal_il"
   ]
  },
  {
   "cell_type": "code",
   "execution_count": 181,
   "metadata": {},
   "outputs": [
    {
     "name": "stdout",
     "output_type": "stream",
     "text": [
      "Total current balance of all installment accounts\n"
     ]
    }
   ],
   "source": [
    "get_descr('total_bal_il')"
   ]
  },
  {
   "cell_type": "code",
   "execution_count": 182,
   "metadata": {},
   "outputs": [
    {
     "data": {
      "text/plain": [
       "<AxesSubplot: xlabel='total_bal_il'>"
      ]
     },
     "execution_count": 182,
     "metadata": {},
     "output_type": "execute_result"
    },
    {
     "data": {
      "image/png": "[encoded data removed]",
      "text/plain": [
       "<Figure size 640x480 with 1 Axes>"
      ]
     },
     "metadata": {},
     "output_type": "display_data"
    }
   ],
   "source": [
    "sns.boxplot(data=data, x='total_bal_il')"
   ]
  },
  {
   "cell_type": "code",
   "execution_count": 186,
   "metadata": {},
   "outputs": [
    {
     "data": {
      "text/plain": [
       "False    76590\n",
       "True     10913\n",
       "Name: total_bal_il, dtype: int64"
      ]
     },
     "execution_count": 186,
     "metadata": {},
     "output_type": "execute_result"
    }
   ],
   "source": [
    "# imputer = KNNImputer(n_neighbors=3, weights=\"uniform\", metric='nan_euclidean')\n",
    "# data['total_bal_il'] = pd.DataFrame(imputer.fit_transform(data[['total_bal_il']]))\n",
    "# data['total_bal_il'].isna().value_counts()"
   ]
  },
  {
   "cell_type": "code",
   "execution_count": 147,
   "metadata": {},
   "outputs": [
    {
     "data": {
      "text/plain": [
       "<AxesSubplot: ylabel='total_bal_il'>"
      ]
     },
     "execution_count": 147,
     "metadata": {},
     "output_type": "execute_result"
    },
    {
     "data": {
      "image/png": "[encoded data removed]",
      "text/plain": [
       "<Figure size 640x480 with 1 Axes>"
      ]
     },
     "metadata": {},
     "output_type": "display_data"
    }
   ],
   "source": [
    "sns.scatterplot(data['total_bal_il'])"
   ]
  },
  {
   "cell_type": "code",
   "execution_count": 148,
   "metadata": {},
   "outputs": [
    {
     "data": {
      "text/plain": [
       "False    76590\n",
       "True     10913\n",
       "Name: total_bal_il, dtype: int64"
      ]
     },
     "execution_count": 148,
     "metadata": {},
     "output_type": "execute_result"
    }
   ],
   "source": [
    "data['total_bal_il'].isna().value_counts()"
   ]
  },
  {
   "attachments": {},
   "cell_type": "markdown",
   "metadata": {},
   "source": [
    "### emp_title"
   ]
  },
  {
   "cell_type": "code",
   "execution_count": 142,
   "metadata": {},
   "outputs": [
    {
     "data": {
      "text/plain": [
       "0                            Public Service\n",
       "1                                       NaN\n",
       "2                            System Analyst\n",
       "3                           Admin assistant\n",
       "                        ...                \n",
       "99996                                   CEO\n",
       "99997    Austin Independent School District\n",
       "99998                               Manager\n",
       "99999                   Locomotive Engineer\n",
       "Name: emp_title, Length: 87503, dtype: object"
      ]
     },
     "execution_count": 142,
     "metadata": {},
     "output_type": "execute_result"
    }
   ],
   "source": [
    "data['emp_title']"
   ]
  },
  {
   "cell_type": "code",
   "execution_count": 143,
   "metadata": {},
   "outputs": [],
   "source": [
    "data['emp_title'].fillna('Unknown', inplace=True)"
   ]
  },
  {
   "attachments": {},
   "cell_type": "markdown",
   "metadata": {},
   "source": [
    "### total_bal_il"
   ]
  },
  {
   "cell_type": "code",
   "execution_count": 145,
   "metadata": {},
   "outputs": [
    {
     "name": "stdout",
     "output_type": "stream",
     "text": [
      "Total current balance of all installment accounts\n"
     ]
    }
   ],
   "source": [
    "get_descr('total_bal_il')"
   ]
  },
  {
   "cell_type": "code",
   "execution_count": null,
   "metadata": {},
   "outputs": [],
   "source": [
    "data['total_bal_il']."
   ]
  },
  {
   "cell_type": "code",
   "execution_count": 144,
   "metadata": {},
   "outputs": [
    {
     "data": {
      "text/plain": [
       "total_bal_il            36.092477\n",
       "emp_length               6.263785\n",
       "mort_acc                 1.942791\n",
       "title                    0.866256\n",
       "dti                      0.085711\n",
       "revol_util               0.063998\n",
       "pub_rec_bankruptcies     0.033142\n",
       "dtype: float64"
      ]
     },
     "metadata": {},
     "output_type": "display_data"
    }
   ],
   "source": [
    "cols_null_percent = data.isna().mean()*100\n",
    "cols_null = cols_null_percent[cols_null_percent > 0].sort_values(ascending=False)\n",
    "display(cols_null)"
   ]
  },
  {
   "cell_type": "code",
   "execution_count": null,
   "metadata": {},
   "outputs": [],
   "source": [
    "results = []\n",
    "for param_combination in param_grid:\n",
    "    imputer = KNNImputer(**param_combination)\n",
    "    train_pred = imputer.fit_transform(X_train)\n",
    "    score = aes(y_train, train_pred)\n",
    "    param_combination[\"train_score\"]= score\n",
    "    param_combination[\"val_score\"] = aes(y_val, imputer.transform(X_val))\n",
    "    results.append(param_combination)"
   ]
  },
  {
   "cell_type": "code",
   "execution_count": 126,
   "metadata": {},
   "outputs": [
    {
     "name": "stdout",
     "output_type": "stream",
     "text": [
      "87503\n"
     ]
    },
    {
     "data": {
      "text/plain": [
       "array([[ 2853., 48186., 13255., ...,     0.,  8682.,  9802.]])"
      ]
     },
     "execution_count": 126,
     "metadata": {},
     "output_type": "execute_result"
    }
   ],
   "source": [
    "imputer = KNNImputer(n_neighbors=4, weights=\"uniform\", metric='nan_euclidean')\n",
    "X = data['total_bal_il'].values.reshape(1,-1)\n",
    "print(X.size)\n",
    "Y = imputer.fit_transform(X)\n",
    "imputer.set_output(transform='pandas')\n",
    "Y"
   ]
  },
  {
   "cell_type": "code",
   "execution_count": 127,
   "metadata": {},
   "outputs": [
    {
     "data": {
      "text/plain": [
       "55921"
      ]
     },
     "execution_count": 127,
     "metadata": {},
     "output_type": "execute_result"
    }
   ],
   "source": [
    "Y.size"
   ]
  },
  {
   "cell_type": "code",
   "execution_count": null,
   "metadata": {},
   "outputs": [],
   "source": [
    "n_neighbors = [1, 2, 3, 5, 7, 9, 20, 30]\n",
    "\n",
    "fig, ax = plt.subplots(figsize=(16, 8))\n",
    "# Plot the original distribution\n",
    "sb.kdeplot(df.variableselected, label=\"Original Distribution\")\n",
    "for k in n_neighbors:\n",
    "    knn_imp = KNNImputer(n_neighbors=k)\n",
    "    density.loc[:, :] = knn_imp.fit_transform(datos)\n",
    "    sb.kdeplot(density.variableselected, label=f\"Imputed Dist with k={k}\")\n",
    "\n",
    "plt.legend()"
   ]
  },
  {
   "cell_type": "code",
   "execution_count": 116,
   "metadata": {},
   "outputs": [
    {
     "data": {
      "text/html": [
       "<div>\n",
       "<style scoped>\n",
       "    .dataframe tbody tr th:only-of-type {\n",
       "        vertical-align: middle;\n",
       "    }\n",
       "\n",
       "    .dataframe tbody tr th {\n",
       "        vertical-align: top;\n",
       "    }\n",
       "\n",
       "    .dataframe thead th {\n",
       "        text-align: right;\n",
       "    }\n",
       "</style>\n",
       "<table border=\"1\" class=\"dataframe\">\n",
       "  <thead>\n",
       "    <tr style=\"text-align: right;\">\n",
       "      <th></th>\n",
       "      <th>0</th>\n",
       "      <th>1</th>\n",
       "      <th>2</th>\n",
       "      <th>3</th>\n",
       "      <th>...</th>\n",
       "      <th>55917</th>\n",
       "      <th>55918</th>\n",
       "      <th>55919</th>\n",
       "      <th>55920</th>\n",
       "    </tr>\n",
       "  </thead>\n",
       "  <tbody>\n",
       "    <tr>\n",
       "      <th>0</th>\n",
       "      <td>2853.0</td>\n",
       "      <td>48186.0</td>\n",
       "      <td>13255.0</td>\n",
       "      <td>35976.0</td>\n",
       "      <td>...</td>\n",
       "      <td>8752.0</td>\n",
       "      <td>0.0</td>\n",
       "      <td>8682.0</td>\n",
       "      <td>9802.0</td>\n",
       "    </tr>\n",
       "  </tbody>\n",
       "</table>\n",
       "<p>1 rows × 55921 columns</p>\n",
       "</div>"
      ],
      "text/plain": [
       "    0        1        2        3      ...   55917  55918   55919   55920\n",
       "0  2853.0  48186.0  13255.0  35976.0  ...  8752.0    0.0  8682.0  9802.0\n",
       "\n",
       "[1 rows x 55921 columns]"
      ]
     },
     "execution_count": 116,
     "metadata": {},
     "output_type": "execute_result"
    }
   ],
   "source": [
    "y =  pd.DataFrame(Y, index=[data.index[0]])\n",
    "y"
   ]
  },
  {
   "cell_type": "code",
   "execution_count": null,
   "metadata": {},
   "outputs": [
    {
     "ename": "KeyError",
     "evalue": "'debt_settlement_flag_date'",
     "output_type": "error",
     "traceback": [
      "\u001b[1;31m---------------------------------------------------------------------------\u001b[0m",
      "\u001b[1;31mKeyError\u001b[0m                                  Traceback (most recent call last)",
      "File \u001b[1;32m~\\AppData\\Roaming\\Python\\Python310\\site-packages\\pandas\\core\\indexes\\base.py:3803\u001b[0m, in \u001b[0;36mIndex.get_loc\u001b[1;34m(self, key, method, tolerance)\u001b[0m\n\u001b[0;32m   3802\u001b[0m \u001b[39mtry\u001b[39;00m:\n\u001b[1;32m-> 3803\u001b[0m     \u001b[39mreturn\u001b[39;00m \u001b[39mself\u001b[39;49m\u001b[39m.\u001b[39;49m_engine\u001b[39m.\u001b[39;49mget_loc(casted_key)\n\u001b[0;32m   3804\u001b[0m \u001b[39mexcept\u001b[39;00m \u001b[39mKeyError\u001b[39;00m \u001b[39mas\u001b[39;00m err:\n",
      "File \u001b[1;32m~\\AppData\\Roaming\\Python\\Python310\\site-packages\\pandas\\_libs\\index.pyx:138\u001b[0m, in \u001b[0;36mpandas._libs.index.IndexEngine.get_loc\u001b[1;34m()\u001b[0m\n",
      "File \u001b[1;32m~\\AppData\\Roaming\\Python\\Python310\\site-packages\\pandas\\_libs\\index.pyx:165\u001b[0m, in \u001b[0;36mpandas._libs.index.IndexEngine.get_loc\u001b[1;34m()\u001b[0m\n",
      "File \u001b[1;32mpandas\\_libs\\hashtable_class_helper.pxi:5745\u001b[0m, in \u001b[0;36mpandas._libs.hashtable.PyObjectHashTable.get_item\u001b[1;34m()\u001b[0m\n",
      "File \u001b[1;32mpandas\\_libs\\hashtable_class_helper.pxi:5753\u001b[0m, in \u001b[0;36mpandas._libs.hashtable.PyObjectHashTable.get_item\u001b[1;34m()\u001b[0m\n",
      "\u001b[1;31mKeyError\u001b[0m: 'debt_settlement_flag_date'",
      "\nThe above exception was the direct cause of the following exception:\n",
      "\u001b[1;31mKeyError\u001b[0m                                  Traceback (most recent call last)",
      "Cell \u001b[1;32mIn[18], line 1\u001b[0m\n\u001b[1;32m----> 1\u001b[0m data[\u001b[39m'\u001b[39m\u001b[39mdebt_settlement_flag_date\u001b[39m\u001b[39m'\u001b[39m] \u001b[39m=\u001b[39m pd\u001b[39m.\u001b[39mto_datetime(data[\u001b[39m'\u001b[39;49m\u001b[39mdebt_settlement_flag_date\u001b[39;49m\u001b[39m'\u001b[39;49m], dayfirst\u001b[39m=\u001b[39m\u001b[39mFalse\u001b[39;00m)\u001b[39m.\u001b[39mdt\u001b[39m.\u001b[39mdate\n",
      "File \u001b[1;32m~\\AppData\\Roaming\\Python\\Python310\\site-packages\\pandas\\core\\frame.py:3805\u001b[0m, in \u001b[0;36mDataFrame.__getitem__\u001b[1;34m(self, key)\u001b[0m\n\u001b[0;32m   3803\u001b[0m \u001b[39mif\u001b[39;00m \u001b[39mself\u001b[39m\u001b[39m.\u001b[39mcolumns\u001b[39m.\u001b[39mnlevels \u001b[39m>\u001b[39m \u001b[39m1\u001b[39m:\n\u001b[0;32m   3804\u001b[0m     \u001b[39mreturn\u001b[39;00m \u001b[39mself\u001b[39m\u001b[39m.\u001b[39m_getitem_multilevel(key)\n\u001b[1;32m-> 3805\u001b[0m indexer \u001b[39m=\u001b[39m \u001b[39mself\u001b[39;49m\u001b[39m.\u001b[39;49mcolumns\u001b[39m.\u001b[39;49mget_loc(key)\n\u001b[0;32m   3806\u001b[0m \u001b[39mif\u001b[39;00m is_integer(indexer):\n\u001b[0;32m   3807\u001b[0m     indexer \u001b[39m=\u001b[39m [indexer]\n",
      "File \u001b[1;32m~\\AppData\\Roaming\\Python\\Python310\\site-packages\\pandas\\core\\indexes\\base.py:3805\u001b[0m, in \u001b[0;36mIndex.get_loc\u001b[1;34m(self, key, method, tolerance)\u001b[0m\n\u001b[0;32m   3803\u001b[0m     \u001b[39mreturn\u001b[39;00m \u001b[39mself\u001b[39m\u001b[39m.\u001b[39m_engine\u001b[39m.\u001b[39mget_loc(casted_key)\n\u001b[0;32m   3804\u001b[0m \u001b[39mexcept\u001b[39;00m \u001b[39mKeyError\u001b[39;00m \u001b[39mas\u001b[39;00m err:\n\u001b[1;32m-> 3805\u001b[0m     \u001b[39mraise\u001b[39;00m \u001b[39mKeyError\u001b[39;00m(key) \u001b[39mfrom\u001b[39;00m \u001b[39merr\u001b[39;00m\n\u001b[0;32m   3806\u001b[0m \u001b[39mexcept\u001b[39;00m \u001b[39mTypeError\u001b[39;00m:\n\u001b[0;32m   3807\u001b[0m     \u001b[39m# If we have a listlike key, _check_indexing_error will raise\u001b[39;00m\n\u001b[0;32m   3808\u001b[0m     \u001b[39m#  InvalidIndexError. Otherwise we fall through and re-raise\u001b[39;00m\n\u001b[0;32m   3809\u001b[0m     \u001b[39m#  the TypeError.\u001b[39;00m\n\u001b[0;32m   3810\u001b[0m     \u001b[39mself\u001b[39m\u001b[39m.\u001b[39m_check_indexing_error(key)\n",
      "\u001b[1;31mKeyError\u001b[0m: 'debt_settlement_flag_date'"
     ]
    }
   ],
   "source": [
    "data['debt_settlement_flag_date'] = pd.to_datetime(data['debt_settlement_flag_date'], dayfirst=False).dt.date\n",
    "data['debt_settlement_flag_date'].value_counts()"
   ]
  },
  {
   "cell_type": "code",
   "execution_count": 19,
   "metadata": {},
   "outputs": [
    {
     "data": {
      "text/plain": [
       "87503"
      ]
     },
     "execution_count": 19,
     "metadata": {},
     "output_type": "execute_result"
    }
   ],
   "source": [
    "data['debt_settlement_flag_date'].isna().count()"
   ]
  },
  {
   "attachments": {},
   "cell_type": "markdown",
   "metadata": {},
   "source": [
    "## Next section"
   ]
  },
  {
   "attachments": {},
   "cell_type": "markdown",
   "metadata": {},
   "source": [
    "Let us encode the feature manually: "
   ]
  },
  {
   "cell_type": "code",
   "execution_count": null,
   "metadata": {},
   "outputs": [],
   "source": []
  },
  {
   "cell_type": "markdown",
   "metadata": {},
   "source": []
  },
  {
   "cell_type": "code",
   "execution_count": 65,
   "metadata": {},
   "outputs": [
    {
     "data": {
      "text/plain": [
       "<AxesSubplot: >"
      ]
     },
     "execution_count": 65,
     "metadata": {},
     "output_type": "execute_result"
    },
    {
     "data": {
      "image/png": "[encoded data removed]",
      "text/plain": [
       "<Figure size 640x480 with 1 Axes>"
      ]
     },
     "metadata": {},
     "output_type": "display_data"
    }
   ],
   "source": [
    "data['installment'].hist(bins=30)"
   ]
  },
  {
   "cell_type": "code",
   "execution_count": 72,
   "metadata": {},
   "outputs": [
    {
     "data": {
      "text/plain": [
       " 36 months    0.710658\n",
       " 60 months    0.289342\n",
       "Name: term, dtype: float64"
      ]
     },
     "execution_count": 72,
     "metadata": {},
     "output_type": "execute_result"
    }
   ],
   "source": [
    "data['term'].value_counts(True)"
   ]
  },
  {
   "cell_type": "code",
   "execution_count": 55,
   "metadata": {},
   "outputs": [
    {
     "data": {
      "text/html": [
       "<div>\n",
       "<style scoped>\n",
       "    .dataframe tbody tr th:only-of-type {\n",
       "        vertical-align: middle;\n",
       "    }\n",
       "\n",
       "    .dataframe tbody tr th {\n",
       "        vertical-align: top;\n",
       "    }\n",
       "\n",
       "    .dataframe thead th {\n",
       "        text-align: right;\n",
       "    }\n",
       "</style>\n",
       "<table border=\"1\" class=\"dataframe\">\n",
       "  <thead>\n",
       "    <tr style=\"text-align: right;\">\n",
       "      <th></th>\n",
       "      <th>member_id</th>\n",
       "      <th>loan_amnt</th>\n",
       "      <th>funded_amnt</th>\n",
       "      <th>funded_amnt_inv</th>\n",
       "      <th>...</th>\n",
       "      <th>hardship_last_payment_amount</th>\n",
       "      <th>settlement_amount</th>\n",
       "      <th>settlement_percentage</th>\n",
       "      <th>settlement_term</th>\n",
       "    </tr>\n",
       "  </thead>\n",
       "  <tbody>\n",
       "    <tr>\n",
       "      <th>count</th>\n",
       "      <td>0.0</td>\n",
       "      <td>99996.00000</td>\n",
       "      <td>99996.000000</td>\n",
       "      <td>99996.000000</td>\n",
       "      <td>...</td>\n",
       "      <td>490.000000</td>\n",
       "      <td>1585.000000</td>\n",
       "      <td>1585.000000</td>\n",
       "      <td>1585.000000</td>\n",
       "    </tr>\n",
       "    <tr>\n",
       "      <th>mean</th>\n",
       "      <td>NaN</td>\n",
       "      <td>15081.25750</td>\n",
       "      <td>15076.493310</td>\n",
       "      <td>15060.101482</td>\n",
       "      <td>...</td>\n",
       "      <td>196.677469</td>\n",
       "      <td>5036.891691</td>\n",
       "      <td>47.700315</td>\n",
       "      <td>13.021451</td>\n",
       "    </tr>\n",
       "    <tr>\n",
       "      <th>std</th>\n",
       "      <td>NaN</td>\n",
       "      <td>9214.65121</td>\n",
       "      <td>9213.200242</td>\n",
       "      <td>9216.652945</td>\n",
       "      <td>...</td>\n",
       "      <td>195.609417</td>\n",
       "      <td>3690.770500</td>\n",
       "      <td>6.785504</td>\n",
       "      <td>8.124088</td>\n",
       "    </tr>\n",
       "    <tr>\n",
       "      <th>min</th>\n",
       "      <td>NaN</td>\n",
       "      <td>1000.00000</td>\n",
       "      <td>1000.000000</td>\n",
       "      <td>0.000000</td>\n",
       "      <td>...</td>\n",
       "      <td>0.020000</td>\n",
       "      <td>203.000000</td>\n",
       "      <td>15.000000</td>\n",
       "      <td>0.000000</td>\n",
       "    </tr>\n",
       "    <tr>\n",
       "      <th>25%</th>\n",
       "      <td>NaN</td>\n",
       "      <td>8000.00000</td>\n",
       "      <td>8000.000000</td>\n",
       "      <td>8000.000000</td>\n",
       "      <td>...</td>\n",
       "      <td>50.220000</td>\n",
       "      <td>2206.000000</td>\n",
       "      <td>45.000000</td>\n",
       "      <td>6.000000</td>\n",
       "    </tr>\n",
       "    <tr>\n",
       "      <th>50%</th>\n",
       "      <td>NaN</td>\n",
       "      <td>13000.00000</td>\n",
       "      <td>13000.000000</td>\n",
       "      <td>12900.000000</td>\n",
       "      <td>...</td>\n",
       "      <td>135.330000</td>\n",
       "      <td>4106.000000</td>\n",
       "      <td>45.000000</td>\n",
       "      <td>13.000000</td>\n",
       "    </tr>\n",
       "    <tr>\n",
       "      <th>75%</th>\n",
       "      <td>NaN</td>\n",
       "      <td>20000.00000</td>\n",
       "      <td>20000.000000</td>\n",
       "      <td>20000.000000</td>\n",
       "      <td>...</td>\n",
       "      <td>287.055000</td>\n",
       "      <td>6911.000000</td>\n",
       "      <td>50.000000</td>\n",
       "      <td>18.000000</td>\n",
       "    </tr>\n",
       "    <tr>\n",
       "      <th>max</th>\n",
       "      <td>NaN</td>\n",
       "      <td>40000.00000</td>\n",
       "      <td>40000.000000</td>\n",
       "      <td>40000.000000</td>\n",
       "      <td>...</td>\n",
       "      <td>1187.560000</td>\n",
       "      <td>23766.000000</td>\n",
       "      <td>90.000000</td>\n",
       "      <td>36.000000</td>\n",
       "    </tr>\n",
       "  </tbody>\n",
       "</table>\n",
       "<p>8 rows × 113 columns</p>\n",
       "</div>"
      ],
      "text/plain": [
       "       member_id    loan_amnt   funded_amnt  funded_amnt_inv  ...  \\\n",
       "count        0.0  99996.00000  99996.000000     99996.000000  ...   \n",
       "mean         NaN  15081.25750  15076.493310     15060.101482  ...   \n",
       "std          NaN   9214.65121   9213.200242      9216.652945  ...   \n",
       "min          NaN   1000.00000   1000.000000         0.000000  ...   \n",
       "25%          NaN   8000.00000   8000.000000      8000.000000  ...   \n",
       "50%          NaN  13000.00000  13000.000000     12900.000000  ...   \n",
       "75%          NaN  20000.00000  20000.000000     20000.000000  ...   \n",
       "max          NaN  40000.00000  40000.000000     40000.000000  ...   \n",
       "\n",
       "       hardship_last_payment_amount  settlement_amount  settlement_percentage  \\\n",
       "count                    490.000000        1585.000000            1585.000000   \n",
       "mean                     196.677469        5036.891691              47.700315   \n",
       "std                      195.609417        3690.770500               6.785504   \n",
       "min                        0.020000         203.000000              15.000000   \n",
       "25%                       50.220000        2206.000000              45.000000   \n",
       "50%                      135.330000        4106.000000              45.000000   \n",
       "75%                      287.055000        6911.000000              50.000000   \n",
       "max                     1187.560000       23766.000000              90.000000   \n",
       "\n",
       "       settlement_term  \n",
       "count      1585.000000  \n",
       "mean         13.021451  \n",
       "std           8.124088  \n",
       "min           0.000000  \n",
       "25%           6.000000  \n",
       "50%          13.000000  \n",
       "75%          18.000000  \n",
       "max          36.000000  \n",
       "\n",
       "[8 rows x 113 columns]"
      ]
     },
     "execution_count": 55,
     "metadata": {},
     "output_type": "execute_result"
    }
   ],
   "source": [
    "data.describe()"
   ]
  },
  {
   "cell_type": "code",
   "execution_count": 54,
   "metadata": {},
   "outputs": [
    {
     "data": {
      "text/plain": [
       "['member_id',\n",
       " 'loan_amnt',\n",
       " 'funded_amnt',\n",
       " 'funded_amnt_inv',\n",
       " 'term',\n",
       " 'int_rate',\n",
       " 'installment',\n",
       " 'grade',\n",
       " 'sub_grade',\n",
       " 'emp_title',\n",
       " 'emp_length',\n",
       " 'home_ownership',\n",
       " 'annual_inc',\n",
       " 'verification_status',\n",
       " 'issue_d',\n",
       " 'loan_status',\n",
       " 'pymnt_plan',\n",
       " 'url',\n",
       " 'desc',\n",
       " 'purpose',\n",
       " 'title',\n",
       " 'zip_code',\n",
       " 'addr_state',\n",
       " 'dti',\n",
       " 'delinq_2yrs',\n",
       " 'earliest_cr_line',\n",
       " 'fico_range_low',\n",
       " 'fico_range_high',\n",
       " 'inq_last_6mths',\n",
       " 'mths_since_last_delinq',\n",
       " 'mths_since_last_record',\n",
       " 'open_acc',\n",
       " 'pub_rec',\n",
       " 'revol_bal',\n",
       " 'revol_util',\n",
       " 'total_acc',\n",
       " 'initial_list_status',\n",
       " 'out_prncp',\n",
       " 'out_prncp_inv',\n",
       " 'total_pymnt',\n",
       " 'total_pymnt_inv',\n",
       " 'total_rec_prncp',\n",
       " 'total_rec_int',\n",
       " 'total_rec_late_fee',\n",
       " 'recoveries',\n",
       " 'collection_recovery_fee',\n",
       " 'last_pymnt_d',\n",
       " 'last_pymnt_amnt',\n",
       " 'next_pymnt_d',\n",
       " 'last_credit_pull_d',\n",
       " 'last_fico_range_high',\n",
       " 'last_fico_range_low',\n",
       " 'collections_12_mths_ex_med',\n",
       " 'mths_since_last_major_derog',\n",
       " 'policy_code',\n",
       " 'application_type',\n",
       " 'annual_inc_joint',\n",
       " 'dti_joint',\n",
       " 'verification_status_joint',\n",
       " 'acc_now_delinq',\n",
       " 'tot_coll_amt',\n",
       " 'tot_cur_bal',\n",
       " 'open_acc_6m',\n",
       " 'open_act_il',\n",
       " 'open_il_12m',\n",
       " 'open_il_24m',\n",
       " 'mths_since_rcnt_il',\n",
       " 'total_bal_il',\n",
       " 'il_util',\n",
       " 'open_rv_12m',\n",
       " 'open_rv_24m',\n",
       " 'max_bal_bc',\n",
       " 'all_util',\n",
       " 'total_rev_hi_lim',\n",
       " 'inq_fi',\n",
       " 'total_cu_tl',\n",
       " 'inq_last_12m',\n",
       " 'acc_open_past_24mths',\n",
       " 'avg_cur_bal',\n",
       " 'bc_open_to_buy',\n",
       " 'bc_util',\n",
       " 'chargeoff_within_12_mths',\n",
       " 'delinq_amnt',\n",
       " 'mo_sin_old_il_acct',\n",
       " 'mo_sin_old_rev_tl_op',\n",
       " 'mo_sin_rcnt_rev_tl_op',\n",
       " 'mo_sin_rcnt_tl',\n",
       " 'mort_acc',\n",
       " 'mths_since_recent_bc',\n",
       " 'mths_since_recent_bc_dlq',\n",
       " 'mths_since_recent_inq',\n",
       " 'mths_since_recent_revol_delinq',\n",
       " 'num_accts_ever_120_pd',\n",
       " 'num_actv_bc_tl',\n",
       " 'num_actv_rev_tl',\n",
       " 'num_bc_sats',\n",
       " 'num_bc_tl',\n",
       " 'num_il_tl',\n",
       " 'num_op_rev_tl',\n",
       " 'num_rev_accts',\n",
       " 'num_rev_tl_bal_gt_0',\n",
       " 'num_sats',\n",
       " 'num_tl_120dpd_2m',\n",
       " 'num_tl_30dpd',\n",
       " 'num_tl_90g_dpd_24m',\n",
       " 'num_tl_op_past_12m',\n",
       " 'pct_tl_nvr_dlq',\n",
       " 'percent_bc_gt_75',\n",
       " 'pub_rec_bankruptcies',\n",
       " 'tax_liens',\n",
       " 'tot_hi_cred_lim',\n",
       " 'total_bal_ex_mort',\n",
       " 'total_bc_limit',\n",
       " 'total_il_high_credit_limit',\n",
       " 'revol_bal_joint',\n",
       " 'sec_app_fico_range_low',\n",
       " 'sec_app_fico_range_high',\n",
       " 'sec_app_earliest_cr_line',\n",
       " 'sec_app_inq_last_6mths',\n",
       " 'sec_app_mort_acc',\n",
       " 'sec_app_open_acc',\n",
       " 'sec_app_revol_util',\n",
       " 'sec_app_open_act_il',\n",
       " 'sec_app_num_rev_accts',\n",
       " 'sec_app_chargeoff_within_12_mths',\n",
       " 'sec_app_collections_12_mths_ex_med',\n",
       " 'sec_app_mths_since_last_major_derog',\n",
       " 'hardship_flag',\n",
       " 'hardship_type',\n",
       " 'hardship_reason',\n",
       " 'hardship_status',\n",
       " 'deferral_term',\n",
       " 'hardship_amount',\n",
       " 'hardship_start_date',\n",
       " 'hardship_end_date',\n",
       " 'payment_plan_start_date',\n",
       " 'hardship_length',\n",
       " 'hardship_dpd',\n",
       " 'hardship_loan_status',\n",
       " 'orig_projected_additional_accrued_interest',\n",
       " 'hardship_payoff_balance_amount',\n",
       " 'hardship_last_payment_amount',\n",
       " 'disbursement_method',\n",
       " 'debt_settlement_flag',\n",
       " 'debt_settlement_flag_date',\n",
       " 'settlement_status',\n",
       " 'settlement_date',\n",
       " 'settlement_amount',\n",
       " 'settlement_percentage',\n",
       " 'settlement_term']"
      ]
     },
     "execution_count": 54,
     "metadata": {},
     "output_type": "execute_result"
    }
   ],
   "source": [
    "data.columns.to_list()"
   ]
  },
  {
   "cell_type": "code",
   "execution_count": null,
   "metadata": {},
   "outputs": [],
   "source": [
    "sns.histplot(data, y='loan_status')"
   ]
  },
  {
   "cell_type": "code",
   "execution_count": 27,
   "metadata": {},
   "outputs": [
    {
     "data": {
      "text/plain": [
       "<AxesSubplot: xlabel='loan_amnt'>"
      ]
     },
     "execution_count": 27,
     "metadata": {},
     "output_type": "execute_result"
    },
    {
     "data": {
      "image/png": "[encoded data removed]",
      "text/plain": [
       "<Figure size 640x480 with 1 Axes>"
      ]
     },
     "metadata": {},
     "output_type": "display_data"
    }
   ],
   "source": [
    "sns.boxplot(df, x='loan_amnt')"
   ]
  },
  {
   "cell_type": "code",
   "execution_count": null,
   "metadata": {},
   "outputs": [
    {
     "data": {
      "text/html": [
       "<div>\n",
       "<style scoped>\n",
       "    .dataframe tbody tr th:only-of-type {\n",
       "        vertical-align: middle;\n",
       "    }\n",
       "\n",
       "    .dataframe tbody tr th {\n",
       "        vertical-align: top;\n",
       "    }\n",
       "\n",
       "    .dataframe thead th {\n",
       "        text-align: right;\n",
       "    }\n",
       "</style>\n",
       "<table border=\"1\" class=\"dataframe\">\n",
       "  <thead>\n",
       "    <tr style=\"text-align: right;\">\n",
       "      <th></th>\n",
       "      <th>id</th>\n",
       "      <th>member_id</th>\n",
       "      <th>loan_amnt</th>\n",
       "      <th>funded_amnt</th>\n",
       "      <th>...</th>\n",
       "      <th>settlement_date</th>\n",
       "      <th>settlement_amount</th>\n",
       "      <th>settlement_percentage</th>\n",
       "      <th>settlement_term</th>\n",
       "    </tr>\n",
       "  </thead>\n",
       "  <tbody>\n",
       "    <tr>\n",
       "      <th>392949</th>\n",
       "      <td>39651438</td>\n",
       "      <td>NaN</td>\n",
       "      <td>32000.0</td>\n",
       "      <td>32000.0</td>\n",
       "      <td>...</td>\n",
       "      <td>NaN</td>\n",
       "      <td>NaN</td>\n",
       "      <td>NaN</td>\n",
       "      <td>NaN</td>\n",
       "    </tr>\n",
       "    <tr>\n",
       "      <th>1273506</th>\n",
       "      <td>16411620</td>\n",
       "      <td>NaN</td>\n",
       "      <td>9600.0</td>\n",
       "      <td>9600.0</td>\n",
       "      <td>...</td>\n",
       "      <td>NaN</td>\n",
       "      <td>NaN</td>\n",
       "      <td>NaN</td>\n",
       "      <td>NaN</td>\n",
       "    </tr>\n",
       "    <tr>\n",
       "      <th>324024</th>\n",
       "      <td>45122316</td>\n",
       "      <td>NaN</td>\n",
       "      <td>4000.0</td>\n",
       "      <td>4000.0</td>\n",
       "      <td>...</td>\n",
       "      <td>NaN</td>\n",
       "      <td>NaN</td>\n",
       "      <td>NaN</td>\n",
       "      <td>NaN</td>\n",
       "    </tr>\n",
       "    <tr>\n",
       "      <th>2066630</th>\n",
       "      <td>125356772</td>\n",
       "      <td>NaN</td>\n",
       "      <td>6025.0</td>\n",
       "      <td>6025.0</td>\n",
       "      <td>...</td>\n",
       "      <td>NaN</td>\n",
       "      <td>NaN</td>\n",
       "      <td>NaN</td>\n",
       "      <td>NaN</td>\n",
       "    </tr>\n",
       "    <tr>\n",
       "      <th>...</th>\n",
       "      <td>...</td>\n",
       "      <td>...</td>\n",
       "      <td>...</td>\n",
       "      <td>...</td>\n",
       "      <td>...</td>\n",
       "      <td>...</td>\n",
       "      <td>...</td>\n",
       "      <td>...</td>\n",
       "      <td>...</td>\n",
       "    </tr>\n",
       "    <tr>\n",
       "      <th>363389</th>\n",
       "      <td>41368988</td>\n",
       "      <td>NaN</td>\n",
       "      <td>25200.0</td>\n",
       "      <td>25200.0</td>\n",
       "      <td>...</td>\n",
       "      <td>NaN</td>\n",
       "      <td>NaN</td>\n",
       "      <td>NaN</td>\n",
       "      <td>NaN</td>\n",
       "    </tr>\n",
       "    <tr>\n",
       "      <th>1908460</th>\n",
       "      <td>1513211</td>\n",
       "      <td>NaN</td>\n",
       "      <td>10000.0</td>\n",
       "      <td>10000.0</td>\n",
       "      <td>...</td>\n",
       "      <td>NaN</td>\n",
       "      <td>NaN</td>\n",
       "      <td>NaN</td>\n",
       "      <td>NaN</td>\n",
       "    </tr>\n",
       "    <tr>\n",
       "      <th>1487889</th>\n",
       "      <td>135125990</td>\n",
       "      <td>NaN</td>\n",
       "      <td>20000.0</td>\n",
       "      <td>20000.0</td>\n",
       "      <td>...</td>\n",
       "      <td>NaN</td>\n",
       "      <td>NaN</td>\n",
       "      <td>NaN</td>\n",
       "      <td>NaN</td>\n",
       "    </tr>\n",
       "    <tr>\n",
       "      <th>347653</th>\n",
       "      <td>43165428</td>\n",
       "      <td>NaN</td>\n",
       "      <td>12000.0</td>\n",
       "      <td>12000.0</td>\n",
       "      <td>...</td>\n",
       "      <td>NaN</td>\n",
       "      <td>NaN</td>\n",
       "      <td>NaN</td>\n",
       "      <td>NaN</td>\n",
       "    </tr>\n",
       "  </tbody>\n",
       "</table>\n",
       "<p>100000 rows × 151 columns</p>\n",
       "</div>"
      ],
      "text/plain": [
       "                id  member_id  loan_amnt  funded_amnt  ...  settlement_date  \\\n",
       "392949    39651438        NaN    32000.0      32000.0  ...              NaN   \n",
       "1273506   16411620        NaN     9600.0       9600.0  ...              NaN   \n",
       "324024    45122316        NaN     4000.0       4000.0  ...              NaN   \n",
       "2066630  125356772        NaN     6025.0       6025.0  ...              NaN   \n",
       "...            ...        ...        ...          ...  ...              ...   \n",
       "363389    41368988        NaN    25200.0      25200.0  ...              NaN   \n",
       "1908460    1513211        NaN    10000.0      10000.0  ...              NaN   \n",
       "1487889  135125990        NaN    20000.0      20000.0  ...              NaN   \n",
       "347653    43165428        NaN    12000.0      12000.0  ...              NaN   \n",
       "\n",
       "        settlement_amount  settlement_percentage  settlement_term  \n",
       "392949                NaN                    NaN              NaN  \n",
       "1273506               NaN                    NaN              NaN  \n",
       "324024                NaN                    NaN              NaN  \n",
       "2066630               NaN                    NaN              NaN  \n",
       "...                   ...                    ...              ...  \n",
       "363389                NaN                    NaN              NaN  \n",
       "1908460               NaN                    NaN              NaN  \n",
       "1487889               NaN                    NaN              NaN  \n",
       "347653                NaN                    NaN              NaN  \n",
       "\n",
       "[100000 rows x 151 columns]"
      ]
     },
     "metadata": {},
     "output_type": "display_data"
    }
   ],
   "source": []
  },
  {
   "cell_type": "code",
   "execution_count": null,
   "metadata": {},
   "outputs": [
    {
     "data": {
      "text/plain": [
       "['id',\n",
       " 'member_id',\n",
       " 'loan_amnt',\n",
       " 'funded_amnt',\n",
       " 'funded_amnt_inv',\n",
       " 'term',\n",
       " 'int_rate',\n",
       " 'installment',\n",
       " 'grade',\n",
       " 'sub_grade',\n",
       " 'emp_title',\n",
       " 'emp_length',\n",
       " 'home_ownership',\n",
       " 'annual_inc',\n",
       " 'verification_status',\n",
       " 'issue_d',\n",
       " 'loan_status',\n",
       " 'pymnt_plan',\n",
       " 'url',\n",
       " 'desc',\n",
       " 'purpose',\n",
       " 'title',\n",
       " 'zip_code',\n",
       " 'addr_state',\n",
       " 'dti',\n",
       " 'delinq_2yrs',\n",
       " 'earliest_cr_line',\n",
       " 'fico_range_low',\n",
       " 'fico_range_high',\n",
       " 'inq_last_6mths',\n",
       " 'mths_since_last_delinq',\n",
       " 'mths_since_last_record',\n",
       " 'open_acc',\n",
       " 'pub_rec',\n",
       " 'revol_bal',\n",
       " 'revol_util',\n",
       " 'total_acc',\n",
       " 'initial_list_status',\n",
       " 'out_prncp',\n",
       " 'out_prncp_inv',\n",
       " 'total_pymnt',\n",
       " 'total_pymnt_inv',\n",
       " 'total_rec_prncp',\n",
       " 'total_rec_int',\n",
       " 'total_rec_late_fee',\n",
       " 'recoveries',\n",
       " 'collection_recovery_fee',\n",
       " 'last_pymnt_d',\n",
       " 'last_pymnt_amnt',\n",
       " 'next_pymnt_d',\n",
       " 'last_credit_pull_d',\n",
       " 'last_fico_range_high',\n",
       " 'last_fico_range_low',\n",
       " 'collections_12_mths_ex_med',\n",
       " 'mths_since_last_major_derog',\n",
       " 'policy_code',\n",
       " 'application_type',\n",
       " 'annual_inc_joint',\n",
       " 'dti_joint',\n",
       " 'verification_status_joint',\n",
       " 'acc_now_delinq',\n",
       " 'tot_coll_amt',\n",
       " 'tot_cur_bal',\n",
       " 'open_acc_6m',\n",
       " 'open_act_il',\n",
       " 'open_il_12m',\n",
       " 'open_il_24m',\n",
       " 'mths_since_rcnt_il',\n",
       " 'total_bal_il',\n",
       " 'il_util',\n",
       " 'open_rv_12m',\n",
       " 'open_rv_24m',\n",
       " 'max_bal_bc',\n",
       " 'all_util',\n",
       " 'total_rev_hi_lim',\n",
       " 'inq_fi',\n",
       " 'total_cu_tl',\n",
       " 'inq_last_12m',\n",
       " 'acc_open_past_24mths',\n",
       " 'avg_cur_bal',\n",
       " 'bc_open_to_buy',\n",
       " 'bc_util',\n",
       " 'chargeoff_within_12_mths',\n",
       " 'delinq_amnt',\n",
       " 'mo_sin_old_il_acct',\n",
       " 'mo_sin_old_rev_tl_op',\n",
       " 'mo_sin_rcnt_rev_tl_op',\n",
       " 'mo_sin_rcnt_tl',\n",
       " 'mort_acc',\n",
       " 'mths_since_recent_bc',\n",
       " 'mths_since_recent_bc_dlq',\n",
       " 'mths_since_recent_inq',\n",
       " 'mths_since_recent_revol_delinq',\n",
       " 'num_accts_ever_120_pd',\n",
       " 'num_actv_bc_tl',\n",
       " 'num_actv_rev_tl',\n",
       " 'num_bc_sats',\n",
       " 'num_bc_tl',\n",
       " 'num_il_tl',\n",
       " 'num_op_rev_tl',\n",
       " 'num_rev_accts',\n",
       " 'num_rev_tl_bal_gt_0',\n",
       " 'num_sats',\n",
       " 'num_tl_120dpd_2m',\n",
       " 'num_tl_30dpd',\n",
       " 'num_tl_90g_dpd_24m',\n",
       " 'num_tl_op_past_12m',\n",
       " 'pct_tl_nvr_dlq',\n",
       " 'percent_bc_gt_75',\n",
       " 'pub_rec_bankruptcies',\n",
       " 'tax_liens',\n",
       " 'tot_hi_cred_lim',\n",
       " 'total_bal_ex_mort',\n",
       " 'total_bc_limit',\n",
       " 'total_il_high_credit_limit',\n",
       " 'revol_bal_joint',\n",
       " 'sec_app_fico_range_low',\n",
       " 'sec_app_fico_range_high',\n",
       " 'sec_app_earliest_cr_line',\n",
       " 'sec_app_inq_last_6mths',\n",
       " 'sec_app_mort_acc',\n",
       " 'sec_app_open_acc',\n",
       " 'sec_app_revol_util',\n",
       " 'sec_app_open_act_il',\n",
       " 'sec_app_num_rev_accts',\n",
       " 'sec_app_chargeoff_within_12_mths',\n",
       " 'sec_app_collections_12_mths_ex_med',\n",
       " 'sec_app_mths_since_last_major_derog',\n",
       " 'hardship_flag',\n",
       " 'hardship_type',\n",
       " 'hardship_reason',\n",
       " 'hardship_status',\n",
       " 'deferral_term',\n",
       " 'hardship_amount',\n",
       " 'hardship_start_date',\n",
       " 'hardship_end_date',\n",
       " 'payment_plan_start_date',\n",
       " 'hardship_length',\n",
       " 'hardship_dpd',\n",
       " 'hardship_loan_status',\n",
       " 'orig_projected_additional_accrued_interest',\n",
       " 'hardship_payoff_balance_amount',\n",
       " 'hardship_last_payment_amount',\n",
       " 'disbursement_method',\n",
       " 'debt_settlement_flag',\n",
       " 'debt_settlement_flag_date',\n",
       " 'settlement_status',\n",
       " 'settlement_date',\n",
       " 'settlement_amount',\n",
       " 'settlement_percentage',\n",
       " 'settlement_term']"
      ]
     },
     "execution_count": 6,
     "metadata": {},
     "output_type": "execute_result"
    }
   ],
   "source": [
    "columns_list = df.columns.to_list()\n",
    "columns_list"
   ]
  }
 ],
 "metadata": {
  "kernelspec": {
   "display_name": "Python 3.10.7 64-bit",
   "language": "python",
   "name": "python3"
  },
  "language_info": {
   "codemirror_mode": {
    "name": "ipython",
    "version": 3
   },
   "file_extension": ".py",
   "mimetype": "text/x-python",
   "name": "python",
   "nbconvert_exporter": "python",
   "pygments_lexer": "ipython3",
   "version": "3.10.7"
  },
  "orig_nbformat": 4,
  "vscode": {
   "interpreter": {
    "hash": "26de051ba29f2982a8de78e945f0abaf191376122a1563185a90213a26c5da77"
   }
  }
 },
 "nbformat": 4,
 "nbformat_minor": 2
}
